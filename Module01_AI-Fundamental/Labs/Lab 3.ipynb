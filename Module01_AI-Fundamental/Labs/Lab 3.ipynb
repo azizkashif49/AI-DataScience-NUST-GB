{
 "cells": [
  {
   "cell_type": "code",
   "execution_count": 29,
   "id": "f7bda846",
   "metadata": {},
   "outputs": [],
   "source": [
    "cars = [\"BMW\", \"Mercedes\", \"Audi\", \"Bugatti\", \"Lamborghini\"]"
   ]
  },
  {
   "cell_type": "code",
   "execution_count": 4,
   "id": "f9d40a73",
   "metadata": {},
   "outputs": [
    {
     "data": {
      "text/plain": [
       "'BMW'"
      ]
     },
     "execution_count": 4,
     "metadata": {},
     "output_type": "execute_result"
    }
   ],
   "source": [
    "cars[0]"
   ]
  },
  {
   "cell_type": "code",
   "execution_count": 5,
   "id": "96f08ca3",
   "metadata": {},
   "outputs": [
    {
     "data": {
      "text/plain": [
       "'Bugatti'"
      ]
     },
     "execution_count": 5,
     "metadata": {},
     "output_type": "execute_result"
    }
   ],
   "source": [
    "cars[3]"
   ]
  },
  {
   "cell_type": "code",
   "execution_count": 6,
   "id": "52c09349",
   "metadata": {},
   "outputs": [
    {
     "data": {
      "text/plain": [
       "'Lamborghini'"
      ]
     },
     "execution_count": 6,
     "metadata": {},
     "output_type": "execute_result"
    }
   ],
   "source": [
    "cars[-1]"
   ]
  },
  {
   "cell_type": "code",
   "execution_count": 7,
   "id": "20134324",
   "metadata": {},
   "outputs": [
    {
     "data": {
      "text/plain": [
       "'Audi'"
      ]
     },
     "execution_count": 7,
     "metadata": {},
     "output_type": "execute_result"
    }
   ],
   "source": [
    "cars[-3]"
   ]
  },
  {
   "cell_type": "code",
   "execution_count": 8,
   "id": "669356eb",
   "metadata": {},
   "outputs": [
    {
     "data": {
      "text/plain": [
       "['BMW', 'Mercedes', 'Audi', 'Bugatti', 'Lamborghini']"
      ]
     },
     "execution_count": 8,
     "metadata": {},
     "output_type": "execute_result"
    }
   ],
   "source": [
    "cars"
   ]
  },
  {
   "cell_type": "code",
   "execution_count": 43,
   "id": "dbcff615",
   "metadata": {},
   "outputs": [],
   "source": [
    "cars.append(\"Honda\")"
   ]
  },
  {
   "cell_type": "code",
   "execution_count": 44,
   "id": "a70d1f30",
   "metadata": {},
   "outputs": [],
   "source": [
    "cars.insert(1, \"Toyota\")"
   ]
  },
  {
   "cell_type": "code",
   "execution_count": 39,
   "id": "e55ecf77",
   "metadata": {},
   "outputs": [
    {
     "data": {
      "text/plain": [
       "['BMW', 'Mercedes', 'Audi', 'Bugatti', 'Lamborghini']"
      ]
     },
     "execution_count": 39,
     "metadata": {},
     "output_type": "execute_result"
    }
   ],
   "source": [
    "cars"
   ]
  },
  {
   "cell_type": "code",
   "execution_count": 15,
   "id": "84985b0a",
   "metadata": {},
   "outputs": [],
   "source": [
    "cars.insert(0, \"Ducatti\")"
   ]
  },
  {
   "cell_type": "code",
   "execution_count": 14,
   "id": "f43225ca",
   "metadata": {},
   "outputs": [
    {
     "data": {
      "text/plain": [
       "['Ducatti',\n",
       " 'BMW',\n",
       " 'Toyota',\n",
       " 'Mercedes',\n",
       " 'Audi',\n",
       " 'Bugatti',\n",
       " 'Lamborghini',\n",
       " 'Honda']"
      ]
     },
     "execution_count": 14,
     "metadata": {},
     "output_type": "execute_result"
    }
   ],
   "source": [
    "cars"
   ]
  },
  {
   "cell_type": "code",
   "execution_count": 16,
   "id": "2a3762ed",
   "metadata": {},
   "outputs": [],
   "source": [
    "cars.remove(\"Ducatti\")"
   ]
  },
  {
   "cell_type": "code",
   "execution_count": 40,
   "id": "51448fe0",
   "metadata": {},
   "outputs": [
    {
     "data": {
      "text/plain": [
       "['BMW', 'Mercedes', 'Audi', 'Bugatti', 'Lamborghini']"
      ]
     },
     "execution_count": 40,
     "metadata": {},
     "output_type": "execute_result"
    }
   ],
   "source": [
    "cars"
   ]
  },
  {
   "cell_type": "code",
   "execution_count": 21,
   "id": "009ecc1d",
   "metadata": {},
   "outputs": [],
   "source": [
    "del cars[3]"
   ]
  },
  {
   "cell_type": "code",
   "execution_count": 22,
   "id": "47246ffe",
   "metadata": {},
   "outputs": [
    {
     "data": {
      "text/plain": [
       "['Ducatti', 'BMW', 'Toyota', 'Audi', 'Bugatti', 'Lamborghini', 'Honda']"
      ]
     },
     "execution_count": 22,
     "metadata": {},
     "output_type": "execute_result"
    }
   ],
   "source": [
    "cars"
   ]
  },
  {
   "cell_type": "code",
   "execution_count": 41,
   "id": "41696088",
   "metadata": {},
   "outputs": [],
   "source": [
    "cars.append(\"Mercedes\")"
   ]
  },
  {
   "cell_type": "code",
   "execution_count": 42,
   "id": "8ff4d49b",
   "metadata": {},
   "outputs": [],
   "source": [
    "cars.append(\"Ford\")"
   ]
  },
  {
   "cell_type": "code",
   "execution_count": 25,
   "id": "e4deef05",
   "metadata": {},
   "outputs": [],
   "source": [
    "alphabets = (\"a\", \"c\", \"d\", \"z\", \"b\", \"f\", \"e\")"
   ]
  },
  {
   "cell_type": "code",
   "execution_count": 28,
   "id": "126b8bf8",
   "metadata": {},
   "outputs": [
    {
     "data": {
      "text/plain": [
       "'c'"
      ]
     },
     "execution_count": 28,
     "metadata": {},
     "output_type": "execute_result"
    }
   ],
   "source": [
    "alhabets[1]"
   ]
  },
  {
   "cell_type": "code",
   "execution_count": 30,
   "id": "714ec781",
   "metadata": {},
   "outputs": [
    {
     "data": {
      "text/plain": [
       "list"
      ]
     },
     "execution_count": 30,
     "metadata": {},
     "output_type": "execute_result"
    }
   ],
   "source": [
    "type(cars)"
   ]
  },
  {
   "cell_type": "code",
   "execution_count": 31,
   "id": "0a38e9ad",
   "metadata": {},
   "outputs": [
    {
     "data": {
      "text/plain": [
       "tuple"
      ]
     },
     "execution_count": 31,
     "metadata": {},
     "output_type": "execute_result"
    }
   ],
   "source": [
    "type(alphabets)"
   ]
  },
  {
   "cell_type": "code",
   "execution_count": 32,
   "id": "40245afb",
   "metadata": {},
   "outputs": [],
   "source": [
    "numbers = {1, 2, 3, 8, 6, 4, 3, 2}"
   ]
  },
  {
   "cell_type": "code",
   "execution_count": 34,
   "id": "7695ce77",
   "metadata": {},
   "outputs": [
    {
     "data": {
      "text/plain": [
       "{1, 2, 3, 4, 6, 8}"
      ]
     },
     "execution_count": 34,
     "metadata": {},
     "output_type": "execute_result"
    }
   ],
   "source": [
    "numbers"
   ]
  },
  {
   "cell_type": "code",
   "execution_count": 37,
   "id": "1618a5cb",
   "metadata": {},
   "outputs": [
    {
     "name": "stdout",
     "output_type": "stream",
     "text": [
      "1\n",
      "2\n",
      "3\n",
      "4\n",
      "6\n",
      "8\n"
     ]
    }
   ],
   "source": [
    "for i in numbers:\n",
    "    print(i)"
   ]
  },
  {
   "cell_type": "code",
   "execution_count": 45,
   "id": "7181b3c7",
   "metadata": {},
   "outputs": [
    {
     "name": "stdout",
     "output_type": "stream",
     "text": [
      "['BMW', 'Toyota', 'Mercedes', 'Audi', 'Bugatti', 'Lamborghini', 'Mercedes', 'Ford', 'Honda']\n",
      "['BMW', 'Toyota', 'Mercedes', 'Audi', 'Bugatti', 'Lamborghini', 'Mercedes', 'Ford', 'Honda']\n",
      "['BMW', 'Toyota', 'Mercedes', 'Audi', 'Bugatti', 'Lamborghini', 'Mercedes', 'Ford', 'Honda']\n",
      "['BMW', 'Toyota', 'Mercedes', 'Audi', 'Bugatti', 'Lamborghini', 'Mercedes', 'Ford', 'Honda']\n",
      "['BMW', 'Toyota', 'Mercedes', 'Audi', 'Bugatti', 'Lamborghini', 'Mercedes', 'Ford', 'Honda']\n",
      "['BMW', 'Toyota', 'Mercedes', 'Audi', 'Bugatti', 'Lamborghini', 'Mercedes', 'Ford', 'Honda']\n",
      "['BMW', 'Toyota', 'Mercedes', 'Audi', 'Bugatti', 'Lamborghini', 'Mercedes', 'Ford', 'Honda']\n",
      "['BMW', 'Toyota', 'Mercedes', 'Audi', 'Bugatti', 'Lamborghini', 'Mercedes', 'Ford', 'Honda']\n",
      "['BMW', 'Toyota', 'Mercedes', 'Audi', 'Bugatti', 'Lamborghini', 'Mercedes', 'Ford', 'Honda']\n"
     ]
    }
   ],
   "source": [
    "for i in cars:\n",
    "    print(cars)"
   ]
  },
  {
   "cell_type": "markdown",
   "id": "3b98ac0f",
   "metadata": {},
   "source": [
    "###Dictionary"
   ]
  },
  {
   "cell_type": "code",
   "execution_count": 55,
   "id": "30c06fc8",
   "metadata": {},
   "outputs": [],
   "source": [
    "thisDict = {\n",
    "    \"brand\": \"Toyota\",\n",
    "    \"model\": \"Corolla\",\n",
    "    \"year\": 2023\n",
    "}"
   ]
  },
  {
   "cell_type": "code",
   "execution_count": 59,
   "id": "be58878d",
   "metadata": {},
   "outputs": [
    {
     "data": {
      "text/plain": [
       "'Toyota'"
      ]
     },
     "execution_count": 59,
     "metadata": {},
     "output_type": "execute_result"
    }
   ],
   "source": [
    "thisDict[\"brand\"]"
   ]
  },
  {
   "cell_type": "markdown",
   "id": "6e7b203e",
   "metadata": {},
   "source": [
    "LOOPS ==> while"
   ]
  },
  {
   "cell_type": "code",
   "execution_count": 60,
   "id": "a807392f",
   "metadata": {},
   "outputs": [
    {
     "name": "stdout",
     "output_type": "stream",
     "text": [
      "1\n",
      "2\n",
      "3\n",
      "4\n",
      "5\n",
      "6\n",
      "7\n",
      "8\n",
      "9\n",
      "10\n"
     ]
    }
   ],
   "source": [
    "i = 1\n",
    "while i < 11:\n",
    "    print(i)\n",
    "    i += 1"
   ]
  },
  {
   "cell_type": "markdown",
   "id": "19f0c3c1",
   "metadata": {},
   "source": [
    "LOOPS ==> for loop"
   ]
  },
  {
   "cell_type": "code",
   "execution_count": 63,
   "id": "5d7aede2",
   "metadata": {},
   "outputs": [
    {
     "name": "stdout",
     "output_type": "stream",
     "text": [
      "10\n",
      "9\n",
      "8\n",
      "7\n",
      "6\n",
      "5\n",
      "4\n",
      "3\n",
      "2\n",
      "1\n"
     ]
    }
   ],
   "source": [
    "for i in range(10, 0, -1):\n",
    "    print(i)"
   ]
  },
  {
   "cell_type": "code",
   "execution_count": 65,
   "id": "fb8a570f",
   "metadata": {},
   "outputs": [
    {
     "name": "stdout",
     "output_type": "stream",
     "text": [
      "1\n",
      "2\n",
      "3\n",
      "4\n",
      "5\n",
      "6\n",
      "7\n",
      "8\n",
      "9\n",
      "10\n"
     ]
    }
   ],
   "source": [
    "for i in range(1, 11, 1):\n",
    "    print(i)"
   ]
  },
  {
   "cell_type": "code",
   "execution_count": null,
   "id": "b4e3a326",
   "metadata": {},
   "outputs": [],
   "source": []
  },
  {
   "cell_type": "markdown",
   "id": "c42ccc73",
   "metadata": {},
   "source": [
    "Task 1: Write a program that asks the user about the number of values he/she wants to enter. Than\n",
    "enter the values as per the required number, calculate its sum and identify the smallest value among\n",
    "them. The sample output is as follow:\n"
   ]
  },
  {
   "cell_type": "code",
   "execution_count": 86,
   "id": "f196fb15",
   "metadata": {},
   "outputs": [
    {
     "name": "stdout",
     "output_type": "stream",
     "text": [
      "How many times do you want to run the loop: 5\n",
      "Enter a number: 23\n",
      "Enter a number: 43\n",
      "Enter a number: 54\n",
      "Enter a number: 1\n",
      "Enter a number: 535\n",
      "The sum is:  656\n",
      "The smallest value is:  1\n"
     ]
    }
   ],
   "source": [
    "total = 0\n",
    "smallest = float('inf')\n",
    "loop = int(input(\"How many times do you want to run the loop: \"))\n",
    "for i in range(loop):\n",
    "    num = int(input(\"Enter a number: \"))\n",
    "    total = total + num\n",
    "    if num < smallest:\n",
    "        smallest = num\n",
    "\n",
    "print(\"The sum is: \", total)\n",
    "print(\"The smallest value is: \", smallest)\n",
    "    "
   ]
  },
  {
   "cell_type": "code",
   "execution_count": null,
   "id": "30cc074b",
   "metadata": {},
   "outputs": [],
   "source": []
  },
  {
   "cell_type": "markdown",
   "id": "08638163",
   "metadata": {},
   "source": [
    "The factorial function is used frequently in probability problems. The factorial of a positive\n",
    "integer n (written n! and pronounced “n factorial”) is equal to the product of the positive integers\n",
    "from 1 to n.\n",
    "Write a function factorial that accepts an integer as parameter and returns its factorial.\n",
    "Using the factorial function, write a program that evaluates the factorials of the integers from 1 to 5.\n",
    "Print the results in tabular format as following.\n"
   ]
  },
  {
   "cell_type": "code",
   "execution_count": 118,
   "id": "c93194c9",
   "metadata": {},
   "outputs": [
    {
     "name": "stdout",
     "output_type": "stream",
     "text": [
      "Input a number to find the factorial: 5\n",
      "1\n",
      "2\n",
      "6\n",
      "24\n",
      "120\n",
      "The factorial is:  120\n"
     ]
    }
   ],
   "source": [
    "num = int(input(\"Input a number to find the factorial: \"))\n",
    "factorial = 1\n",
    "for i in range(1, num+1):\n",
    "    factorial = factorial * i\n",
    "    print(factorial)\n",
    "print(\"The factorial is: \", factorial)"
   ]
  },
  {
   "cell_type": "code",
   "execution_count": null,
   "id": "51021363",
   "metadata": {},
   "outputs": [],
   "source": []
  },
  {
   "cell_type": "markdown",
   "id": "70b65996",
   "metadata": {},
   "source": [
    "Task 3: Write a program that plays an incredibly stupid number-guessing game. The user will try to\n",
    "guess the secret number until they get it right. That means it will keep looping as long as the guess is\n",
    "different from the secret number. You must store the secret number in a variable, and use that\n",
    "variable throughout. The secret number itself must not appear in the program at all, except in the\n",
    "one line where you store it into a variable. Sample output is as following:\n",
    "I have chosen a number between 1 and 10. Try to guess it.\n",
    "Your guess: 5\n",
    "That is incorrect. Guess again.\n",
    "Your guess: 4\n",
    "That is incorrect. Guess again.\n"
   ]
  },
  {
   "cell_type": "code",
   "execution_count": 22,
   "id": "3bc8d68c",
   "metadata": {},
   "outputs": [
    {
     "name": "stdout",
     "output_type": "stream",
     "text": [
      "Guess the number between 1 - 101\n",
      "Oops! Try Again9\n",
      "Oops! Try Again7\n",
      "Oops! Try Again3\n",
      "Oops! Try Again5\n",
      "Oops! Try Again8\n",
      "You guessed it right\n"
     ]
    }
   ],
   "source": [
    "correct = 8\n",
    "\n",
    "num = int(input(\"I ahve a number between 1 and 100 can you guess what's my number?\"))\n",
    "\n",
    "while num != correct:\n",
    "    num = int(input(\"Oops! Try Again\"))\n",
    "\n",
    "print(\"You guessed it right\")\n",
    "    \n",
    "    \n",
    "    \n",
    "    "
   ]
  },
  {
   "cell_type": "markdown",
   "id": "f7f10f2a",
   "metadata": {},
   "source": [
    "## "
   ]
  },
  {
   "cell_type": "code",
   "execution_count": null,
   "id": "ceabdf6b",
   "metadata": {},
   "outputs": [],
   "source": [
    "  "
   ]
  },
  {
   "cell_type": "markdown",
   "id": "ba2fdd14",
   "metadata": {},
   "source": [
    "Task 6: Write a code that prints on screen all the 4-digit Armstrong numbers."
   ]
  },
  {
   "cell_type": "code",
   "execution_count": 51,
   "id": "34ecbdc6",
   "metadata": {},
   "outputs": [
    {
     "name": "stdout",
     "output_type": "stream",
     "text": [
      "1634\n",
      "8208\n",
      "9474\n"
     ]
    }
   ],
   "source": [
    "for num in range(1000, 10000):\n",
    "    temp = num\n",
    "    sumOfQuad = 0\n",
    "    \n",
    "    while temp > 0:\n",
    "        digit = temp % 10\n",
    "        sumOfQuad = sumOfQuad + digit ** 4\n",
    "        temp = temp // 10\n",
    "    \n",
    "    if num == sumOfQuad:\n",
    "        print(num)"
   ]
  },
  {
   "cell_type": "code",
   "execution_count": null,
   "id": "0485fbc5",
   "metadata": {},
   "outputs": [],
   "source": []
  },
  {
   "cell_type": "markdown",
   "id": "0d09a5a3",
   "metadata": {},
   "source": [
    "Task 7: Write a program that outputs 100 lines, numbered 1 to 100, each with your name on it. The\n",
    "output should look like the output below:"
   ]
  },
  {
   "cell_type": "code",
   "execution_count": 36,
   "id": "25d998d9",
   "metadata": {},
   "outputs": [
    {
     "name": "stdout",
     "output_type": "stream",
     "text": [
      "1    Kashif Aziz\n",
      "2    Kashif Aziz\n",
      "3    Kashif Aziz\n",
      "4    Kashif Aziz\n",
      "5    Kashif Aziz\n",
      "6    Kashif Aziz\n",
      "7    Kashif Aziz\n",
      "8    Kashif Aziz\n",
      "9    Kashif Aziz\n",
      "10    Kashif Aziz\n",
      "11    Kashif Aziz\n",
      "12    Kashif Aziz\n",
      "13    Kashif Aziz\n",
      "14    Kashif Aziz\n",
      "15    Kashif Aziz\n",
      "16    Kashif Aziz\n",
      "17    Kashif Aziz\n",
      "18    Kashif Aziz\n",
      "19    Kashif Aziz\n",
      "20    Kashif Aziz\n",
      "21    Kashif Aziz\n",
      "22    Kashif Aziz\n",
      "23    Kashif Aziz\n",
      "24    Kashif Aziz\n",
      "25    Kashif Aziz\n",
      "26    Kashif Aziz\n",
      "27    Kashif Aziz\n",
      "28    Kashif Aziz\n",
      "29    Kashif Aziz\n",
      "30    Kashif Aziz\n",
      "31    Kashif Aziz\n",
      "32    Kashif Aziz\n",
      "33    Kashif Aziz\n",
      "34    Kashif Aziz\n",
      "35    Kashif Aziz\n",
      "36    Kashif Aziz\n",
      "37    Kashif Aziz\n",
      "38    Kashif Aziz\n",
      "39    Kashif Aziz\n",
      "40    Kashif Aziz\n",
      "41    Kashif Aziz\n",
      "42    Kashif Aziz\n",
      "43    Kashif Aziz\n",
      "44    Kashif Aziz\n",
      "45    Kashif Aziz\n",
      "46    Kashif Aziz\n",
      "47    Kashif Aziz\n",
      "48    Kashif Aziz\n",
      "49    Kashif Aziz\n",
      "50    Kashif Aziz\n",
      "51    Kashif Aziz\n",
      "52    Kashif Aziz\n",
      "53    Kashif Aziz\n",
      "54    Kashif Aziz\n",
      "55    Kashif Aziz\n",
      "56    Kashif Aziz\n",
      "57    Kashif Aziz\n",
      "58    Kashif Aziz\n",
      "59    Kashif Aziz\n",
      "60    Kashif Aziz\n",
      "61    Kashif Aziz\n",
      "62    Kashif Aziz\n",
      "63    Kashif Aziz\n",
      "64    Kashif Aziz\n",
      "65    Kashif Aziz\n",
      "66    Kashif Aziz\n",
      "67    Kashif Aziz\n",
      "68    Kashif Aziz\n",
      "69    Kashif Aziz\n",
      "70    Kashif Aziz\n",
      "71    Kashif Aziz\n",
      "72    Kashif Aziz\n",
      "73    Kashif Aziz\n",
      "74    Kashif Aziz\n",
      "75    Kashif Aziz\n",
      "76    Kashif Aziz\n",
      "77    Kashif Aziz\n",
      "78    Kashif Aziz\n",
      "79    Kashif Aziz\n",
      "80    Kashif Aziz\n",
      "81    Kashif Aziz\n",
      "82    Kashif Aziz\n",
      "83    Kashif Aziz\n",
      "84    Kashif Aziz\n",
      "85    Kashif Aziz\n",
      "86    Kashif Aziz\n",
      "87    Kashif Aziz\n",
      "88    Kashif Aziz\n",
      "89    Kashif Aziz\n",
      "90    Kashif Aziz\n",
      "91    Kashif Aziz\n",
      "92    Kashif Aziz\n",
      "93    Kashif Aziz\n",
      "94    Kashif Aziz\n",
      "95    Kashif Aziz\n",
      "96    Kashif Aziz\n",
      "97    Kashif Aziz\n",
      "98    Kashif Aziz\n",
      "99    Kashif Aziz\n",
      "100    Kashif Aziz\n"
     ]
    }
   ],
   "source": [
    "name = \"Kashif Aziz\"\n",
    "for i in range(100):\n",
    "    \n",
    "    print((i+1), \"  \", name)"
   ]
  },
  {
   "cell_type": "code",
   "execution_count": null,
   "id": "91b0d0e5",
   "metadata": {},
   "outputs": [],
   "source": []
  },
  {
   "cell_type": "markdown",
   "id": "fe7abef7",
   "metadata": {},
   "source": [
    "Task 8: Write a program that prints out a list of the integers from 1 to 20 and their squares. The\n",
    "output should look like this:\n"
   ]
  },
  {
   "cell_type": "code",
   "execution_count": 45,
   "id": "e6e9c7fd",
   "metadata": {},
   "outputs": [
    {
     "name": "stdout",
     "output_type": "stream",
     "text": [
      "Number : Square\n",
      "1           1\n",
      "2           4\n",
      "3           9\n",
      "4           16\n",
      "5           25\n",
      "6           36\n",
      "7           49\n",
      "8           64\n",
      "9           81\n",
      "10           100\n",
      "11           121\n",
      "12           144\n",
      "13           169\n",
      "14           196\n",
      "15           225\n",
      "16           256\n",
      "17           289\n",
      "18           324\n",
      "19           361\n",
      "20           400\n"
     ]
    }
   ],
   "source": [
    "print(\"Number : Square\")\n",
    "for i in range(20):\n",
    "    print((i+1), \"         \", (i+1)**2)"
   ]
  },
  {
   "cell_type": "code",
   "execution_count": null,
   "id": "67fd6227",
   "metadata": {},
   "outputs": [],
   "source": []
  },
  {
   "cell_type": "markdown",
   "id": "035b999d",
   "metadata": {},
   "source": [
    "Task 9: Write a program that uses a for loop to print the numbers 8, 11, 14, 17, 20, . . . , 83, 86, 89.\n"
   ]
  },
  {
   "cell_type": "code",
   "execution_count": 5,
   "id": "06cfdcf5",
   "metadata": {},
   "outputs": [
    {
     "name": "stdout",
     "output_type": "stream",
     "text": [
      "8\n",
      "11\n",
      "14\n",
      "17\n",
      "20\n",
      "23\n",
      "26\n",
      "29\n",
      "32\n",
      "35\n",
      "38\n",
      "41\n",
      "44\n",
      "47\n",
      "50\n",
      "53\n",
      "56\n",
      "59\n",
      "62\n",
      "65\n",
      "68\n",
      "71\n",
      "74\n",
      "77\n",
      "80\n",
      "83\n",
      "86\n",
      "89\n"
     ]
    }
   ],
   "source": [
    "for i in range(8, 90, 3):\n",
    "    print(i)"
   ]
  },
  {
   "cell_type": "code",
   "execution_count": null,
   "id": "1d26e9f9",
   "metadata": {},
   "outputs": [],
   "source": []
  },
  {
   "cell_type": "markdown",
   "id": "a98805e6",
   "metadata": {},
   "source": [
    "Task 10: Write a program that asks the user for their name and how many times to print it. The\n",
    "program should print out the user’s name the specified number of times.\n"
   ]
  },
  {
   "cell_type": "code",
   "execution_count": 7,
   "id": "c7d4a7a5",
   "metadata": {},
   "outputs": [
    {
     "name": "stdout",
     "output_type": "stream",
     "text": [
      "Please Enter you Full Name: Kashif Aziz\n",
      "How many time do you want to print your name: 5\n",
      "Kashif Aziz\n",
      "Kashif Aziz\n",
      "Kashif Aziz\n",
      "Kashif Aziz\n",
      "Kashif Aziz\n"
     ]
    }
   ],
   "source": [
    "name = str(input(\"Please Enter you Full Name: \"))\n",
    "output = int(input(\"How many time do you want to print your name: \"))\n",
    "for i in range(output):\n",
    "    print(name)"
   ]
  },
  {
   "cell_type": "code",
   "execution_count": null,
   "id": "8b3d521b",
   "metadata": {},
   "outputs": [],
   "source": []
  },
  {
   "cell_type": "markdown",
   "id": "4203aa1c",
   "metadata": {},
   "source": [
    "Task 11: Use a for loop to print a box like the one below. Allow the user to specify how wide and\n",
    "how high the box should be."
   ]
  },
  {
   "cell_type": "code",
   "execution_count": 2,
   "id": "33819366",
   "metadata": {},
   "outputs": [
    {
     "name": "stdout",
     "output_type": "stream",
     "text": [
      "How high do you want your box to be: 10\n",
      "How wide do you want your box to be: 10\n",
      "*  *  *  *  *  *  *  *  *  *  \n",
      "*  *  *  *  *  *  *  *  *  *  \n",
      "*  *  *  *  *  *  *  *  *  *  \n",
      "*  *  *  *  *  *  *  *  *  *  \n",
      "*  *  *  *  *  *  *  *  *  *  \n",
      "*  *  *  *  *  *  *  *  *  *  \n",
      "*  *  *  *  *  *  *  *  *  *  \n",
      "*  *  *  *  *  *  *  *  *  *  \n",
      "*  *  *  *  *  *  *  *  *  *  \n",
      "*  *  *  *  *  *  *  *  *  *  \n"
     ]
    }
   ],
   "source": [
    "row = int(input(\"How high do you want your box to be: \"))\n",
    "col = int(input(\"How wide do you want your box to be: \"))\n",
    "for i in range(row):\n",
    "    for i in range(col):\n",
    "        print(\"*\", \" \", end='')\n",
    "    print()"
   ]
  },
  {
   "cell_type": "markdown",
   "id": "839fcb89",
   "metadata": {},
   "source": [
    "Task 12: Use a for loop to print a triangle like the one below. Allow the user to specify how high the\n",
    "triangle should be."
   ]
  },
  {
   "cell_type": "code",
   "execution_count": 10,
   "id": "c7af628b",
   "metadata": {},
   "outputs": [
    {
     "name": "stdout",
     "output_type": "stream",
     "text": [
      "How high do you want your box to be: 10\n",
      "* \n",
      "* * \n",
      "* * * \n",
      "* * * * \n",
      "* * * * * \n",
      "* * * * * * \n",
      "* * * * * * * \n",
      "* * * * * * * * \n",
      "* * * * * * * * * \n",
      "* * * * * * * * * * \n"
     ]
    }
   ],
   "source": [
    "row = int(input(\"How high do you want your box to be: \"))\n",
    "for i in range(row):\n",
    "    for i in range(i+1):\n",
    "        print(\"*\", \"\", end='')\n",
    "    print()"
   ]
  },
  {
   "cell_type": "code",
   "execution_count": null,
   "id": "e5f91a8d",
   "metadata": {},
   "outputs": [],
   "source": []
  },
  {
   "cell_type": "markdown",
   "id": "ba361322",
   "metadata": {},
   "source": [
    "Task 13: Use for loops to print a diamond like the one below. Allow the user to specify how high the\n",
    "diamond should be."
   ]
  },
  {
   "cell_type": "code",
   "execution_count": 40,
   "id": "72dc4125",
   "metadata": {},
   "outputs": [
    {
     "name": "stdout",
     "output_type": "stream",
     "text": [
      "How high do you want your pyramid to be: 10\n",
      "          *\n",
      "         ***\n",
      "        *****\n",
      "       *******\n",
      "      *********\n",
      "     ***********\n",
      "    *************\n",
      "   ***************\n",
      "  *****************\n",
      " *******************\n",
      "*****************\n",
      " *****************\n",
      "  ***************\n",
      "   *************\n",
      "    ***********\n",
      "     *********\n",
      "      *******\n",
      "       *****\n",
      "        ***\n",
      "         *\n"
     ]
    }
   ],
   "source": [
    "row = int(input(\"How high do you want your pyramid to be: \"))\n",
    "\n",
    "for i in range(row):\n",
    "    for i in range(row, i, -1):\n",
    "        print(\" \", end='')\n",
    "    for i in range(i):\n",
    "        print(\"*\", end='')\n",
    "    for i in range(i):\n",
    "        print(\"*\", end='')\n",
    "    print()\n",
    "for i in range(row):\n",
    "    for i in range(i):\n",
    "        print(\" \", end='')\n",
    "    for i in range(row-1, i, -1):\n",
    "        print(\"*\", end='')\n",
    "    for i in range(row-1, i, -1):\n",
    "        print(\"*\", end='')    \n",
    "    print()\n"
   ]
  },
  {
   "cell_type": "code",
   "execution_count": null,
   "id": "144fa5e1",
   "metadata": {},
   "outputs": [],
   "source": []
  },
  {
   "cell_type": "markdown",
   "id": "ad9676c1",
   "metadata": {},
   "source": [
    "Task 4: The greatest common divisor (GCD) of two integers is the largest integer that evenly\n",
    "divides each of the two numbers. Write function gcd that returns the greatest common divisor of\n",
    "two integers."
   ]
  },
  {
   "cell_type": "code",
   "execution_count": 12,
   "id": "2196381d",
   "metadata": {},
   "outputs": [
    {
     "name": "stdout",
     "output_type": "stream",
     "text": [
      "12\n"
     ]
    }
   ],
   "source": [
    "def gcd(a, b):\n",
    "\n",
    "    if a < b:\n",
    "        a, b = b, a\n",
    "\n",
    "    while b != 0:\n",
    "\n",
    "        remainder = a % b\n",
    "\n",
    "        a = b\n",
    "        b = remainder\n",
    "\n",
    "    return a\n",
    "\n",
    "a = 24\n",
    "b = 12\n",
    "result = gcd(a, b)\n",
    "print(result)"
   ]
  },
  {
   "cell_type": "code",
   "execution_count": null,
   "id": "c45ae14a",
   "metadata": {},
   "outputs": [],
   "source": []
  },
  {
   "cell_type": "markdown",
   "id": "77280a2b",
   "metadata": {},
   "source": [
    "Task 5: An integer is said to be prime if it is divisible only by 1 and itself. For example, 2, 3, 5 and 7\n",
    "are prime, but 4, 6, 8 and 9 are not.\n",
    "a) Write a function that determines if a number is prime.\n",
    "b) Use this function in a program that determines and prints all the prime numbers between 1 and\n",
    "10,000."
   ]
  },
  {
   "cell_type": "code",
   "execution_count": 11,
   "id": "ebbbb207",
   "metadata": {},
   "outputs": [
    {
     "name": "stdout",
     "output_type": "stream",
     "text": [
      "2        3        5        7        11        13        17        19        23        29        31        37        41        43        47        53        59        61        67        71        73        79        83        89        97        101        103        107        109        113        127        131        137        139        149        151        157        163        167        173        179        181        191        193        197        199        211        223        227        229        233        239        241        251        257        263        269        271        277        281        283        293        307        311        313        317        331        337        347        349        353        359        367        373        379        383        389        397        401        409        419        421        431        433        439        443        449        457        461        463        467        479        487        491        499        503        509        521        523        541        547        557        563        569        571        577        587        593        599        601        607        613        617        619        631        641        643        647        653        659        661        673        677        683        691        701        709        719        727        733        739        743        751        757        761        769        773        787        797        809        811        821        823        827        829        839        853        857        859        863        877        881        883        887        907        911        919        929        937        941        947        953        967        971        977        983        991        997        1009        1013        1019        1021        1031        1033        1039        1049        1051        1061        1063        1069        1087        1091        1093        1097        1103        1109        1117        1123        1129        1151        1153        1163        1171        1181        1187        1193        1201        1213        1217        1223        1229        1231        1237        1249        1259        1277        1279        1283        1289        1291        1297        1301        1303        1307        1319        1321        1327        1361        1367        1373        1381        1399        1409        1423        1427        1429        1433        1439        1447        1451        1453        1459        1471        1481        1483        1487        1489        1493        1499        1511        1523        1531        1543        1549        1553        1559        1567        1571        1579        1583        1597        1601        1607        1609        1613        1619        1621        1627        1637        1657        1663        1667        1669        1693        1697        1699        1709        1721        1723        1733        1741        1747        1753        1759        1777        1783        1787        1789        1801        1811        1823        1831        1847        1861        1867        1871        1873        1877        1879        1889        1901        1907        1913        1931        1933        1949        1951        1973        1979        1987        1993        1997        1999        2003        2011        2017        2027        2029        2039        2053        2063        2069        2081        2083        2087        2089        2099        2111        2113        2129        2131        2137        2141        2143        2153        2161        2179        2203        2207        2213        2221        2237        2239        2243        2251        2267        2269        2273        2281        2287        2293        2297        2309        2311        2333        2339        2341        2347        2351        2357        2371        2377        2381        2383        2389        2393        2399        2411        2417        2423        2437        2441        2447        2459        2467        2473        2477        2503        2521        2531        2539        2543        2549        2551        2557        2579        2591        2593        2609        2617        2621        2633        2647        2657        2659        2663        2671        2677        2683        2687        2689        2693        2699        2707        2711        2713        2719        2729        2731        2741        2749        2753        2767        2777        2789        2791        2797        2801        2803        2819        2833        2837        2843        2851        2857        2861        2879        2887        2897        2903        2909        2917        2927        2939        2953        2957        2963        2969        2971        2999        3001        3011        3019        3023        3037        3041        3049        3061        3067        3079        3083        3089        3109        3119        3121        3137        3163        3167        3169        3181        3187        3191        3203        3209        3217        3221        3229        3251        3253        3257        3259        3271        3299        3301        3307        3313        3319        3323        3329        3331        3343        3347        3359        3361        3371        3373        3389        3391        3407        3413        3433        3449        3457        3461        3463        3467        3469        3491        3499        3511        3517        3527        3529        3533        3539        3541        3547        3557        3559        3571        3581        3583        3593        3607        3613        3617        3623        3631        3637        3643        3659        3671        3673        3677        3691        3697        3701        3709        3719        3727        3733        3739        3761        3767        3769        3779        3793        3797        3803        3821        3823        3833        3847        3851        3853        3863        3877        3881        3889        3907        3911        3917        3919        3923        3929        3931        3943        3947        3967        3989        4001        4003        4007        4013        4019        4021        4027        4049        4051        4057        4073        4079        4091        4093        4099        4111        4127        4129        4133        4139        4153        4157        4159        4177        4201        4211        4217        4219        4229        4231        4241        4243        4253        4259        4261        4271        4273        4283        4289        4297        4327        4337        4339        4349        4357        4363        4373        4391        4397        4409        4421        4423        4441        4447        4451        4457        4463        4481        4483        4493        4507        4513        4517        4519        4523        4547        4549        4561        4567        4583        4591        4597        4603        4621        4637        4639        4643        4649        4651        4657        4663        4673        4679        4691        4703        4721        4723        4729        4733        4751        4759        4783        4787        4789        4793        4799        4801        4813        4817        4831        4861        4871        4877        4889        4903        4909        4919        4931        4933        4937        4943        4951        4957        4967        4969        4973        4987        4993        4999        5003        5009        5011        5021        5023        5039        5051        5059        5077        5081        5087        5099        5101        5107        5113        5119        5147        5153        5167        5171        5179        5189        5197        5209        5227        5231        5233        5237        5261        5273        5279        5281        5297        5303        5309        5323        5333        5347        5351        5381        5387        5393        5399        5407        5413        5417        5419        5431        5437        5441        5443        5449        5471        5477        5479        5483        5501        5503        5507        5519        5521        5527        5531        5557        5563        5569        5573        5581        5591        5623        5639        5641        5647        5651        5653        5657        5659        5669        5683        5689        5693        5701        5711        5717        5737        5741        5743        5749        5779        5783        5791        5801        5807        5813        5821        5827        5839        5843        5849        5851        5857        5861        5867        5869        5879        5881        5897        5903        5923        5927        5939        5953        5981        5987        6007        6011        6029        6037        6043        6047        6053        6067        6073        6079        6089        6091        6101        6113        6121        6131        6133        6143        6151        6163        6173        6197        6199        6203        6211        6217        6221        6229        6247        6257        6263        6269        6271        6277        6287        6299        6301        6311        6317        6323        6329        6337        6343        6353        6359        6361        6367        6373        6379        6389        6397        6421        6427        6449        6451        6469        6473        6481        6491        6521        6529        6547        6551        6553        6563        6569        6571        6577        6581        6599        6607        6619        6637        6653        6659        6661        6673        6679        6689        6691        6701        6703        "
     ]
    },
    {
     "name": "stdout",
     "output_type": "stream",
     "text": [
      "6709        6719        6733        6737        6761        6763        6779        6781        6791        6793        6803        6823        6827        6829        6833        6841        6857        6863        6869        6871        6883        6899        6907        6911        6917        6947        6949        6959        6961        6967        6971        6977        6983        6991        6997        7001        7013        7019        7027        7039        7043        7057        7069        7079        7103        7109        7121        7127        7129        7151        7159        7177        7187        7193        7207        7211        7213        7219        7229        7237        7243        7247        7253        7283        7297        7307        7309        7321        7331        7333        7349        7351        7369        7393        7411        7417        7433        7451        7457        7459        7477        7481        7487        7489        7499        7507        7517        7523        7529        7537        7541        7547        7549        7559        7561        7573        7577        7583        7589        7591        7603        7607        7621        7639        7643        7649        7669        7673        7681        7687        7691        7699        7703        7717        7723        7727        7741        7753        7757        7759        7789        7793        7817        7823        7829        7841        7853        7867        7873        7877        7879        7883        7901        7907        7919        7927        7933        7937        7949        7951        7963        7993        8009        8011        8017        8039        8053        8059        8069        8081        8087        8089        8093        8101        8111        8117        8123        8147        8161        8167        8171        8179        8191        8209        8219        8221        8231        8233        8237        8243        8263        8269        8273        8287        8291        8293        8297        8311        8317        8329        8353        8363        8369        8377        8387        8389        8419        8423        8429        8431        8443        8447        8461        8467        8501        8513        8521        8527        8537        8539        8543        8563        8573        8581        8597        8599        8609        8623        8627        8629        8641        8647        8663        8669        8677        8681        8689        8693        8699        8707        8713        8719        8731        8737        8741        8747        8753        8761        8779        8783        8803        8807        8819        8821        8831        8837        8839        8849        8861        8863        8867        8887        8893        8923        8929        8933        8941        8951        8963        8969        8971        8999        9001        9007        9011        9013        9029        9041        9043        9049        9059        9067        9091        9103        9109        9127        9133        9137        9151        9157        9161        9173        9181        9187        9199        9203        9209        9221        9227        9239        9241        9257        9277        9281        9283        9293        9311        9319        9323        9337        9341        9343        9349        9371        9377        9391        9397        9403        9413        9419        9421        9431        9433        9437        9439        9461        9463        9467        9473        9479        9491        9497        9511        9521        9533        9539        9547        9551        9587        9601        9613        9619        9623        9629        9631        9643        9649        9661        9677        9679        9689        9697        9719        9721        9733        9739        9743        9749        9767        9769        9781        9787        9791        9803        9811        9817        9829        9833        9839        9851        9857        9859        9871        9883        9887        9901        9907        9923        9929        9931        9941        9949        9967        9973        "
     ]
    }
   ],
   "source": [
    "def isPrime(num):\n",
    "    \n",
    "    prime = True\n",
    "    \n",
    "    if num <= 1:\n",
    "        return False\n",
    "    \n",
    "    for i in range(2, num):\n",
    "        if num % i == 0:\n",
    "            prime = False\n",
    "            return prime\n",
    "    return prime\n",
    "\n",
    "isPrime(12)  \n",
    "\n",
    "for i in range(1, 10000):\n",
    "    if isPrime(i):\n",
    "        print(i, \"       \", end='')"
   ]
  },
  {
   "cell_type": "code",
   "execution_count": null,
   "id": "e7707ead",
   "metadata": {},
   "outputs": [],
   "source": []
  },
  {
   "cell_type": "markdown",
   "id": "ab32ec22",
   "metadata": {},
   "source": [
    "Write a program that prints a giant letter A like the one below. Allow the user to specify\n",
    "how large the letter should be"
   ]
  },
  {
   "cell_type": "code",
   "execution_count": 25,
   "id": "5cfee972",
   "metadata": {},
   "outputs": [
    {
     "name": "stdout",
     "output_type": "stream",
     "text": [
      "    **    \n",
      "   *  *   \n",
      "  ******  \n",
      " *      * \n",
      "*        *\n"
     ]
    }
   ],
   "source": [
    "def printA():\n",
    "  \n",
    "    n = width // 2\n",
    "    for i in range(0, height):\n",
    "        for j in range(0, width+1):\n",
    "            if (j == n or j == (width - n) or (i == (height // 2) and j > n and j < (width - n))):\n",
    "                print(\"*\", end=\"\")\n",
    "            else:\n",
    "                print(end=\" \")\n",
    "        print()\n",
    "        n = n-1\n",
    "\n",
    "printA()"
   ]
  },
  {
   "cell_type": "code",
   "execution_count": null,
   "id": "ad6baa9a",
   "metadata": {},
   "outputs": [],
   "source": []
  }
 ],
 "metadata": {
  "kernelspec": {
   "display_name": "Python 3 (ipykernel)",
   "language": "python",
   "name": "python3"
  },
  "language_info": {
   "codemirror_mode": {
    "name": "ipython",
    "version": 3
   },
   "file_extension": ".py",
   "mimetype": "text/x-python",
   "name": "python",
   "nbconvert_exporter": "python",
   "pygments_lexer": "ipython3",
   "version": "3.10.9"
  }
 },
 "nbformat": 4,
 "nbformat_minor": 5
}
