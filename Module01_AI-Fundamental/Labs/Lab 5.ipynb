{
 "cells": [
  {
   "cell_type": "markdown",
   "id": "2389f766",
   "metadata": {},
   "source": [
    "TASK 1:  Write a program that inputs a line of text. Output the text in uppercase letters and in\n",
    "lowercase letters using built-in functions."
   ]
  },
  {
   "cell_type": "code",
   "execution_count": 3,
   "id": "8a30b187",
   "metadata": {},
   "outputs": [
    {
     "name": "stdout",
     "output_type": "stream",
     "text": [
      "Enter a line of text: Hi my name is Kashif Aziz\n",
      "HI MY NAME IS KASHIF AZIZ\n",
      "Enter a line of text: I am a Computer Scientist\n",
      "i am a computer scientist\n"
     ]
    }
   ],
   "source": [
    "def To_UpperCase(text):\n",
    "    upper = text.upper()\n",
    "    return upper\n",
    "\n",
    "def To_LowerCase(text):\n",
    "    lower = text.lower()\n",
    "    return lower\n",
    "\n",
    "print(To_UpperCase(input(\"Enter a line of text: \")))\n",
    "print(To_LowerCase(input(\"Enter a line of text: \")))"
   ]
  },
  {
   "cell_type": "code",
   "execution_count": null,
   "id": "b09dee10",
   "metadata": {},
   "outputs": [],
   "source": []
  },
  {
   "cell_type": "markdown",
   "id": "7a3db7c1",
   "metadata": {},
   "source": [
    "TASK 2:   A simple way to estimate the number of words in a string is to count the number of\n",
    "spaces in the string. Write a program that asks the user for a string and returns an\n",
    "estimate of how many words are in the string."
   ]
  },
  {
   "cell_type": "code",
   "execution_count": 8,
   "id": "8aa676ae",
   "metadata": {},
   "outputs": [
    {
     "name": "stdout",
     "output_type": "stream",
     "text": [
      "Enter a sentence to count words: Hi my name is Kashif Aziz.\n",
      "6\n"
     ]
    }
   ],
   "source": [
    "def words_count(text):\n",
    "    words = text.split()\n",
    "    return len(words)\n",
    "\n",
    "print(words_count(input(\"Enter a sentence to count words: \")))"
   ]
  },
  {
   "cell_type": "code",
   "execution_count": null,
   "id": "11f3a7e9",
   "metadata": {},
   "outputs": [],
   "source": []
  },
  {
   "cell_type": "markdown",
   "id": "b1f1140b",
   "metadata": {},
   "source": [
    "TASK 3  Write a program that asks the user to enter a string s and then converts s to lowercase,\n",
    "removes all the periods and commas from s, and prints the resulting string.(Hint: use the\n",
    "split method)"
   ]
  },
  {
   "cell_type": "code",
   "execution_count": 10,
   "id": "c106c229",
   "metadata": {},
   "outputs": [
    {
     "name": "stdout",
     "output_type": "stream",
     "text": [
      "Enter a string: Hi, My name is Kashif Aziz.\n",
      "hi my name is kashif aziz\n"
     ]
    }
   ],
   "source": [
    "def process_string(string):\n",
    "    string = string.lower()\n",
    "    string = string.replace('.', '').replace(',', '')\n",
    "    return string\n",
    "\n",
    "print(process_string(input(\"Enter a string: \")))"
   ]
  },
  {
   "cell_type": "code",
   "execution_count": null,
   "id": "df3eaf67",
   "metadata": {},
   "outputs": [],
   "source": []
  },
  {
   "cell_type": "markdown",
   "id": "b0c2e33c",
   "metadata": {},
   "source": [
    "TASK 4  A variable ids refers to the list [4353, 2314, 2956, 3382, 9362, 3900]. Using list\n",
    "methods, do the following:\n",
    "a. Remove 3382 from the list.\n",
    "b. Get the index of 9362.\n",
    "c. Insert 4499 in the list after 9362.\n",
    "d. Extend the list by adding [5566, 1830] to it.\n",
    "e. Reverse the list.\n",
    "f. Sort the list."
   ]
  },
  {
   "cell_type": "code",
   "execution_count": 33,
   "id": "1ec3c626",
   "metadata": {},
   "outputs": [
    {
     "name": "stdout",
     "output_type": "stream",
     "text": [
      "Main List of ID's:  [4353, 2314, 2956, 3382, 9362, 3900]\n",
      "\n",
      "3382 removes using pop function:  [4353, 2314, 2956, 9362, 3900]\n",
      "\n",
      "The index of 9362 is:  3\n",
      "\n",
      "Inserted 4499 before 9363:  [4353, 2314, 2956, 9362, 4499, 3900]\n",
      "\n",
      "Added 2 more numbers to list  [4353, 2314, 2956, 9362, 4499, 3900, 5566, 1830]\n",
      "\n",
      "Reversed the list:  [1830, 5566, 3900, 4499, 9362, 2956, 2314, 4353]\n",
      "\n",
      "Sorted the list:  [1830, 2314, 2956, 3900, 4353, 4499, 5566, 9362]\n",
      "\n"
     ]
    }
   ],
   "source": [
    "ids = [4353, 2314, 2956, 3382, 9362, 3900]\n",
    "print(\"Main List of ID's: \", ids)\n",
    "print('')\n",
    "ids.pop(3)\n",
    "print(\"3382 removes using pop function: \", ids)\n",
    "print('')\n",
    "print(\"The index of 9362 is: \", ids.index(9362))\n",
    "print('')\n",
    "ids.insert(4, 4499)\n",
    "print(\"Inserted 4499 before 9363: \", ids)\n",
    "print('')\n",
    "ids.append(5566)\n",
    "ids.append(1830)\n",
    "print(\"Added 2 more numbers to list \", ids)\n",
    "print('')\n",
    "ids.reverse()\n",
    "print(\"Reversed the list: \", ids)\n",
    "print('')\n",
    "ids.sort()\n",
    "print(\"Sorted the list: \", ids)\n",
    "print('')"
   ]
  },
  {
   "cell_type": "code",
   "execution_count": null,
   "id": "6380c9eb",
   "metadata": {},
   "outputs": [],
   "source": []
  },
  {
   "cell_type": "markdown",
   "id": "88c1b270",
   "metadata": {},
   "source": [
    "TASK 5  When playing games where you have to roll two dice, it is nice to know the odds of each\n",
    "roll. For instance, the odds of rolling a 12 are about 3%, and the odds of rolling a 7 are\n",
    "about 17%. You can compute these mathematically, but if you don’t know the math, you\n",
    "can write a program to do it. To do this, your program should simulate rolling two dice\n",
    "about 10,000 times and compute and print out the percentage of rolls that come out to\n",
    "be 2, 3, 4, . . . , 12. Print the results in a table format."
   ]
  },
  {
   "cell_type": "code",
   "execution_count": 8,
   "id": "9b985817",
   "metadata": {},
   "outputs": [
    {
     "name": "stdout",
     "output_type": "stream",
     "text": [
      "Total\tPercentage\n",
      "2\t2.88 %\n",
      "3\t5.74 %\n",
      "4\t8.14 %\n",
      "5\t10.96 %\n",
      "6\t13.95 %\n",
      "7\t17.54 %\n",
      "8\t14.09 %\n",
      "9\t10.72 %\n",
      "10\t8.03 %\n",
      "11\t5.47 %\n",
      "12\t2.48 %\n"
     ]
    }
   ],
   "source": [
    "import random\n",
    "\n",
    "def roll_dice():\n",
    "    return random.randint(1, 6)\n",
    "\n",
    "def rolling(num_rolls):\n",
    "    \n",
    "    rolls = [0] * 13\n",
    "    \n",
    "    for _ in range(num_rolls):\n",
    "        dice1 = roll_dice()\n",
    "        dice2 = roll_dice()\n",
    "        total = dice1 + dice2\n",
    "        rolls[total] += 1\n",
    "        \n",
    "    print(\"Total\\tPercentage\")\n",
    "    \n",
    "    for i in range(2, 13):\n",
    "        percentage = (rolls[i] / num_rolls) * 100\n",
    "        print(f\"{i}\\t{percentage:.2f} %\") \n",
    "        \n",
    "rolling(10000)"
   ]
  },
  {
   "cell_type": "code",
   "execution_count": null,
   "id": "e9830091",
   "metadata": {},
   "outputs": [],
   "source": []
  },
  {
   "cell_type": "markdown",
   "id": "56bb4606",
   "metadata": {},
   "source": [
    "TASK 6  Write a function each for mean, median and mode that accepts a list as an argument.\n",
    "The mean, median, and mode functions return an integer."
   ]
  },
  {
   "cell_type": "code",
   "execution_count": 11,
   "id": "52bd1945",
   "metadata": {},
   "outputs": [
    {
     "name": "stdout",
     "output_type": "stream",
     "text": [
      "51.904761904761905\n",
      "45\n",
      "[84]\n"
     ]
    }
   ],
   "source": [
    "numbers = [23, 43, 24, 24, 25, 97, 73, 84, 84, 45, 65, 82, 37, 66, 84, 23, 33, 66, 71, 20, 21]\n",
    "length = len(numbers)\n",
    "\n",
    "def mean(numbers):\n",
    "    total = 0\n",
    "    for i in range(length):\n",
    "        total += numbers[i]\n",
    "        mean = total / length\n",
    "    return mean\n",
    "\n",
    "def median(numbers):\n",
    "    numbers.sort()\n",
    "    medianPlace = int(length / 2)\n",
    "    print(numbers[medianPlace])\n",
    "    \n",
    "from collections import Counter\n",
    "\n",
    "def mode(numbers):\n",
    "    counts = Counter(numbers)\n",
    "    max_count = max(counts.values())\n",
    "    modes = [num for num, count in counts.items() if count == max_count]\n",
    "    \n",
    "    if len(modes) == len(numbers):\n",
    "        return None\n",
    "    else:\n",
    "        return modes\n",
    "\n",
    "print(mean(numbers))\n",
    "median(numbers)\n",
    "print(mode(numbers))"
   ]
  },
  {
   "cell_type": "code",
   "execution_count": null,
   "id": "b69f7fe8",
   "metadata": {},
   "outputs": [],
   "source": []
  },
  {
   "cell_type": "markdown",
   "id": "a88a73b4",
   "metadata": {},
   "source": [
    "TASK 7    Write a program that rotates the elements of a list so that the element at the first index\n",
    "moves to the second index, the element in the second index moves to the third index,\n",
    "etc., and the element in the last index moves to the first index.\n"
   ]
  },
  {
   "cell_type": "code",
   "execution_count": 12,
   "id": "955bd1ac",
   "metadata": {},
   "outputs": [
    {
     "name": "stdout",
     "output_type": "stream",
     "text": [
      "Rotated List: [5, 1, 2, 3, 4]\n"
     ]
    }
   ],
   "source": [
    "def rotate_list(lst):\n",
    "    if len(lst) <= 1:\n",
    "        return lst\n",
    "    \n",
    "    rotated_list = [lst[-1]] + lst[:-1]\n",
    "    return rotated_list\n",
    "\n",
    "my_list = [1, 2, 3, 4, 5]\n",
    "rotated = rotate_list(my_list)\n",
    "print(\"Rotated List:\", rotated)\n"
   ]
  },
  {
   "cell_type": "code",
   "execution_count": null,
   "id": "96c61fe9",
   "metadata": {},
   "outputs": [],
   "source": []
  },
  {
   "cell_type": "markdown",
   "id": "d442f8a6",
   "metadata": {},
   "source": [
    "TASK 8    Write a program that generates 100 random integers that are either 0 or 1. Then find the longest\n",
    "run of zeros, the largest number of zeros in a row. For instance, the longest run of zeros in\n",
    "[1,0,1,1,0,0,0,0,1,0,0] is 4."
   ]
  },
  {
   "cell_type": "code",
   "execution_count": 14,
   "id": "9b82b45e",
   "metadata": {},
   "outputs": [
    {
     "name": "stdout",
     "output_type": "stream",
     "text": [
      "Random List: [0, 1, 0, 1, 1, 0, 0, 1, 0, 0, 0, 1, 1, 1, 0, 1, 1, 1, 1, 1, 0, 0, 0, 1, 1, 0, 0, 1, 0, 0, 1, 1, 1, 0, 0, 1, 1, 1, 0, 1, 1, 0, 0, 0, 1, 1, 0, 0, 1, 1, 1, 0, 1, 1, 1, 0, 0, 1, 1, 0, 0, 1, 1, 1, 0, 1, 0, 1, 0, 1, 0, 0, 0, 1, 1, 1, 0, 1, 1, 1, 1, 1, 0, 0, 0, 1, 0, 1, 1, 1, 0, 1, 0, 1, 1, 0, 1, 0, 1, 1]\n",
      "Longest Run of Zeros: 3\n"
     ]
    }
   ],
   "source": [
    "import random\n",
    "\n",
    "def find_longest_run_of_zeros(lst):\n",
    "    max_zeros = 0\n",
    "    current_zeros = 0\n",
    "    \n",
    "    for num in lst:\n",
    "        if num == 0:\n",
    "            current_zeros += 1\n",
    "            max_zeros = max(max_zeros, current_zeros)\n",
    "        else:\n",
    "            current_zeros = 0\n",
    "    \n",
    "    return max_zeros\n",
    "\n",
    "# Generate 100 random integers (0 or 1)\n",
    "random_list = [random.randint(0, 1) for _ in range(100)]\n",
    "\n",
    "# Find the longest run of zeros\n",
    "longest_run = find_longest_run_of_zeros(random_list)\n",
    "\n",
    "# Print the random list and the longest run\n",
    "print(\"Random List:\", random_list)\n",
    "print(\"Longest Run of Zeros:\", longest_run)\n"
   ]
  },
  {
   "cell_type": "code",
   "execution_count": null,
   "id": "3c22a4dc",
   "metadata": {},
   "outputs": [],
   "source": []
  },
  {
   "cell_type": "markdown",
   "id": "abfd1a57",
   "metadata": {},
   "source": [
    "TASK 9     Read the size of the matrix from the user. Populate it with data from the user. Print the\n",
    "original ,transpose and product of the matrices on the screen."
   ]
  },
  {
   "cell_type": "code",
   "execution_count": 16,
   "id": "e9257c74",
   "metadata": {},
   "outputs": [
    {
     "name": "stdout",
     "output_type": "stream",
     "text": [
      "Enter the size of the square matrix: 4\n",
      "Enter the elements of the original matrix:\n",
      "Enter the elements of the matrix (row-wise):\n",
      "4\n",
      "4\n",
      "4\n",
      "4\n",
      "4\n",
      "4\n",
      "4\n",
      "4\n",
      "4\n",
      "4\n",
      "4\n",
      "4\n",
      "4\n",
      "4\n",
      "4\n",
      "4\n",
      "Original Matrix:\n",
      "4 4 4 4\n",
      "4 4 4 4\n",
      "4 4 4 4\n",
      "4 4 4 4\n",
      "Transposed Matrix:\n",
      "4 4 4 4\n",
      "4 4 4 4\n",
      "4 4 4 4\n",
      "4 4 4 4\n",
      "Product of the matrices:\n",
      "64 64 64 64\n",
      "64 64 64 64\n",
      "64 64 64 64\n",
      "64 64 64 64\n"
     ]
    }
   ],
   "source": [
    "def read_matrix(size):\n",
    "    matrix = []\n",
    "    print(\"Enter the elements of the matrix (row-wise):\")\n",
    "    for _ in range(size):\n",
    "        row = []\n",
    "        for _ in range(size):\n",
    "            element = int(input())\n",
    "            row.append(element)\n",
    "        matrix.append(row)\n",
    "    return matrix\n",
    "\n",
    "def print_matrix(matrix):\n",
    "    for row in matrix:\n",
    "        print(\" \".join(str(element) for element in row))\n",
    "\n",
    "def transpose_matrix(matrix):\n",
    "    size = len(matrix)\n",
    "    transposed = [[0] * size for _ in range(size)]\n",
    "    for i in range(size):\n",
    "        for j in range(size):\n",
    "            transposed[j][i] = matrix[i][j]\n",
    "    return transposed\n",
    "\n",
    "def multiply_matrices(matrix1, matrix2):\n",
    "    size = len(matrix1)\n",
    "    result = [[0] * size for _ in range(size)]\n",
    "    for i in range(size):\n",
    "        for j in range(size):\n",
    "            for k in range(size):\n",
    "                result[i][j] += matrix1[i][k] * matrix2[k][j]\n",
    "    return result\n",
    "\n",
    "# Read the size of the matrix from the user\n",
    "size = int(input(\"Enter the size of the square matrix: \"))\n",
    "\n",
    "# Read and populate the original matrix from the user\n",
    "print(\"Enter the elements of the original matrix:\")\n",
    "original_matrix = read_matrix(size)\n",
    "\n",
    "# Print the original matrix\n",
    "print(\"Original Matrix:\")\n",
    "print_matrix(original_matrix)\n",
    "\n",
    "# Transpose the original matrix\n",
    "transposed_matrix = transpose_matrix(original_matrix)\n",
    "\n",
    "# Print the transposed matrix\n",
    "print(\"Transposed Matrix:\")\n",
    "print_matrix(transposed_matrix)\n",
    "\n",
    "# Multiply the original matrix by its transpose\n",
    "product_matrix = multiply_matrices(original_matrix, transposed_matrix)\n",
    "\n",
    "# Print the product of the matrices\n",
    "print(\"Product of the matrices:\")\n",
    "print_matrix(product_matrix)\n"
   ]
  },
  {
   "cell_type": "markdown",
   "id": "a8702182",
   "metadata": {},
   "source": []
  },
  {
   "cell_type": "code",
   "execution_count": null,
   "id": "13bc6abd",
   "metadata": {},
   "outputs": [],
   "source": []
  }
 ],
 "metadata": {
  "kernelspec": {
   "display_name": "Python 3 (ipykernel)",
   "language": "python",
   "name": "python3"
  },
  "language_info": {
   "codemirror_mode": {
    "name": "ipython",
    "version": 3
   },
   "file_extension": ".py",
   "mimetype": "text/x-python",
   "name": "python",
   "nbconvert_exporter": "python",
   "pygments_lexer": "ipython3",
   "version": "3.10.9"
  }
 },
 "nbformat": 4,
 "nbformat_minor": 5
}
