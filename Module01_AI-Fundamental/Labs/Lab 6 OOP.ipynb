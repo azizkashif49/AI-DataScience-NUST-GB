{
 "cells": [
  {
   "cell_type": "markdown",
   "id": "e7e3ae6a",
   "metadata": {},
   "source": [
    "# LAB 6"
   ]
  },
  {
   "cell_type": "code",
   "execution_count": 11,
   "id": "29c60033",
   "metadata": {},
   "outputs": [],
   "source": [
    "class Car:\n",
    "    def __init__(self, make, mdoel, year):\n",
    "        self.make = make\n",
    "        self.model = mdoel\n",
    "        self.year = year\n",
    "    def drive(self):\n",
    "        print(f\"The {self.make} {self.model} is driving.\")"
   ]
  },
  {
   "cell_type": "code",
   "execution_count": 12,
   "id": "be4697b9",
   "metadata": {},
   "outputs": [],
   "source": [
    "my_car = Car(\"Toyota\", \"Corolla\", 2023)"
   ]
  },
  {
   "cell_type": "code",
   "execution_count": 13,
   "id": "483abcf2",
   "metadata": {},
   "outputs": [
    {
     "data": {
      "text/plain": [
       "'Toyota'"
      ]
     },
     "execution_count": 13,
     "metadata": {},
     "output_type": "execute_result"
    }
   ],
   "source": [
    "my_car.make"
   ]
  },
  {
   "cell_type": "code",
   "execution_count": 14,
   "id": "d8c67464",
   "metadata": {},
   "outputs": [
    {
     "name": "stdout",
     "output_type": "stream",
     "text": [
      "The Toyota Corolla is driving.\n"
     ]
    }
   ],
   "source": [
    "my_car.drive()"
   ]
  },
  {
   "cell_type": "code",
   "execution_count": 9,
   "id": "c44bbb7b",
   "metadata": {},
   "outputs": [
    {
     "name": "stdout",
     "output_type": "stream",
     "text": [
      "Dog make bark sound\n",
      "germen shaperd make bark sound.\n"
     ]
    }
   ],
   "source": [
    "class Animal:\n",
    "    def __init__(self, n, color, legs, sound):\n",
    "        self.name = n\n",
    "        self.color = color\n",
    "        self.legs = legs\n",
    "        self.sound = sound\n",
    "    \n",
    "    def make_sound(self):\n",
    "        print(f\"{self.name} make {self.sound} sound.\")\n",
    "    \n",
    "class Dog(Animal):     \n",
    "       \n",
    "    \n",
    "    def show_detail(self):\n",
    "        print(f\"{self.name} contain {self.legs}.\")\n",
    "    def make_sound(self):\n",
    "        print(\"Dog make bark sound\")\n",
    "        super().make_sound()\n",
    "    \n",
    "    \n",
    "dog = Animal(\"germen shaperd\", \"black\", 4, \"bark\")\n",
    "\n",
    "d1 = Dog(\"germen shaperd\", \"black\", 4, \"bark\")\n",
    "d1.make_sound()"
   ]
  },
  {
   "cell_type": "code",
   "execution_count": null,
   "id": "a9956c82",
   "metadata": {},
   "outputs": [],
   "source": []
  },
  {
   "cell_type": "markdown",
   "id": "e6948d59",
   "metadata": {},
   "source": [
    "# TASK 1 Write a Python class called Rectangle that has attributes length and width. Implement methods to calculate the area and perimeter of the rectangle."
   ]
  },
  {
   "cell_type": "code",
   "execution_count": 3,
   "id": "30bff116",
   "metadata": {},
   "outputs": [
    {
     "name": "stdout",
     "output_type": "stream",
     "text": [
      "Area of rectangle is:  75\n",
      "Parameter of Rectangle is:  40\n"
     ]
    }
   ],
   "source": [
    "class Rectangle:\n",
    "    def __init__(self, length, width):\n",
    "        self.length = length\n",
    "        self.width = width\n",
    "    \n",
    "    def area(self):\n",
    "        Area = self.length * self.width\n",
    "        print(\"Area of rectangle is: \", Area)\n",
    "        \n",
    "    def parameter(self):\n",
    "        Para = self.length*2 + self.width*2\n",
    "        print(\"Parameter of Rectangle is: \", Para)\n",
    "        \n",
    "r1 = Rectangle(5, 15)\n",
    "r1.area()\n",
    "r1.parameter()"
   ]
  },
  {
   "cell_type": "code",
   "execution_count": null,
   "id": "1b26cddc",
   "metadata": {},
   "outputs": [],
   "source": []
  },
  {
   "cell_type": "markdown",
   "id": "f80f3f60",
   "metadata": {},
   "source": [
    "# TASK 2    Create a class hierarchy in Python consisting of a base class called Animal, and derived classes Dog, Cat, and Bird. Each derived class should have its unique method. Instantiate objects of each class and demonstrate polymorphism by calling a common method on each object."
   ]
  },
  {
   "cell_type": "code",
   "execution_count": 4,
   "id": "556e0408",
   "metadata": {},
   "outputs": [
    {
     "name": "stdout",
     "output_type": "stream",
     "text": [
      "Buddy: Woof!\n",
      "Whiskers: Meow!\n",
      "Tweetie: Chirp!\n"
     ]
    }
   ],
   "source": [
    "class Animal:\n",
    "    def __init__(self, name):\n",
    "        self.name = name\n",
    "    \n",
    "    def sound(self):\n",
    "        pass\n",
    "\n",
    "class Dog(Animal):\n",
    "    def sound(self):\n",
    "        return \"Woof!\"\n",
    "\n",
    "class Cat(Animal):\n",
    "    def sound(self):\n",
    "        return \"Meow!\"\n",
    "\n",
    "class Bird(Animal):\n",
    "    def sound(self):\n",
    "        return \"Chirp!\"\n",
    "\n",
    "dog = Dog(\"Buddy\")\n",
    "cat = Cat(\"Whiskers\")\n",
    "bird = Bird(\"Tweetie\")\n",
    "\n",
    "animals = [dog, cat, bird]\n",
    "for animal in animals:\n",
    "    print(f\"{animal.name}: {animal.sound()}\")"
   ]
  },
  {
   "cell_type": "code",
   "execution_count": null,
   "id": "b7dedb6c",
   "metadata": {},
   "outputs": [],
   "source": []
  },
  {
   "cell_type": "markdown",
   "id": "a9a09c40",
   "metadata": {},
   "source": [
    "# TASK 3    Write a Python class called Shape with a method area() that returns the area of the shape. Create two subclasses, Rectangle and Circle, each overriding the area() method to 7calculate the area of the specific shape. Instantiate objects of each class and display their areas."
   ]
  },
  {
   "cell_type": "code",
   "execution_count": 5,
   "id": "3af23056",
   "metadata": {},
   "outputs": [
    {
     "name": "stdout",
     "output_type": "stream",
     "text": [
      "Area of Rectangle: 15\n",
      "Area of Circle: 50.26548245743669\n"
     ]
    }
   ],
   "source": [
    "import math\n",
    "\n",
    "class Shape:\n",
    "    def area(self):\n",
    "        pass\n",
    "\n",
    "class Rectangle(Shape):\n",
    "    def __init__(self, length, width):\n",
    "        self.length = length\n",
    "        self.width = width\n",
    "    \n",
    "    def area(self):\n",
    "        return self.length * self.width\n",
    "\n",
    "class Circle(Shape):\n",
    "    def __init__(self, radius):\n",
    "        self.radius = radius\n",
    "    \n",
    "    def area(self):\n",
    "        return math.pi * self.radius ** 2\n",
    "\n",
    "# Instantiate objects of each class\n",
    "rectangle = Rectangle(5, 3)\n",
    "circle = Circle(4)\n",
    "\n",
    "# Display the areas of the objects\n",
    "print(\"Area of Rectangle:\", rectangle.area())\n",
    "print(\"Area of Circle:\", circle.area())\n"
   ]
  },
  {
   "cell_type": "code",
   "execution_count": null,
   "id": "9995bb29",
   "metadata": {},
   "outputs": [],
   "source": []
  }
 ],
 "metadata": {
  "kernelspec": {
   "display_name": "Python 3 (ipykernel)",
   "language": "python",
   "name": "python3"
  },
  "language_info": {
   "codemirror_mode": {
    "name": "ipython",
    "version": 3
   },
   "file_extension": ".py",
   "mimetype": "text/x-python",
   "name": "python",
   "nbconvert_exporter": "python",
   "pygments_lexer": "ipython3",
   "version": "3.10.9"
  }
 },
 "nbformat": 4,
 "nbformat_minor": 5
}
