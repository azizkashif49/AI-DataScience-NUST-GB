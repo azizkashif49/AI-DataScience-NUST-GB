{
 "cells": [
  {
   "cell_type": "code",
   "execution_count": 1,
   "id": "39c08b01",
   "metadata": {},
   "outputs": [
    {
     "name": "stdout",
     "output_type": "stream",
     "text": [
      "10\n"
     ]
    }
   ],
   "source": [
    "print(9+1)"
   ]
  },
  {
   "cell_type": "code",
   "execution_count": 2,
   "id": "74d69f46",
   "metadata": {},
   "outputs": [
    {
     "name": "stdout",
     "output_type": "stream",
     "text": [
      "-47\n"
     ]
    }
   ],
   "source": [
    "print(9-56)"
   ]
  },
  {
   "cell_type": "code",
   "execution_count": 3,
   "id": "acf50e59",
   "metadata": {},
   "outputs": [
    {
     "name": "stdout",
     "output_type": "stream",
     "text": [
      "6.0\n"
     ]
    }
   ],
   "source": [
    "print(12/2)"
   ]
  },
  {
   "cell_type": "code",
   "execution_count": 4,
   "id": "f8f5b399",
   "metadata": {},
   "outputs": [
    {
     "name": "stdout",
     "output_type": "stream",
     "text": [
      "0\n"
     ]
    }
   ],
   "source": [
    "print(15%3)"
   ]
  },
  {
   "cell_type": "code",
   "execution_count": 5,
   "id": "84c6d0eb",
   "metadata": {},
   "outputs": [
    {
     "name": "stdout",
     "output_type": "stream",
     "text": [
      "8\n"
     ]
    }
   ],
   "source": [
    "print(2**3)\n"
   ]
  },
  {
   "cell_type": "code",
   "execution_count": 6,
   "id": "7986d643",
   "metadata": {},
   "outputs": [
    {
     "name": "stdout",
     "output_type": "stream",
     "text": [
      "81\n"
     ]
    }
   ],
   "source": [
    "print(9*9)"
   ]
  },
  {
   "cell_type": "code",
   "execution_count": 8,
   "id": "50b98b0c",
   "metadata": {},
   "outputs": [
    {
     "name": "stdout",
     "output_type": "stream",
     "text": [
      "78.5\n"
     ]
    }
   ],
   "source": [
    "pi = 3.14\n",
    "radius = 5\n",
    "area_circle = pi * (radius*radius)\n",
    "print(area_circle)"
   ]
  },
  {
   "cell_type": "code",
   "execution_count": 11,
   "id": "a94856e9",
   "metadata": {},
   "outputs": [
    {
     "name": "stdout",
     "output_type": "stream",
     "text": [
      "Enter a number5\n",
      "5 ___ 10 ___ 15\n"
     ]
    }
   ],
   "source": [
    "x = int(input(\"Enter a number\"))\n",
    "print(x*1, \"___\", x*2, \"___\", x*3)"
   ]
  },
  {
   "cell_type": "code",
   "execution_count": 13,
   "id": "a68d3d83",
   "metadata": {},
   "outputs": [
    {
     "name": "stdout",
     "output_type": "stream",
     "text": [
      "Enter a number5\n",
      "0\n",
      "5\n",
      "10\n",
      "15\n",
      "20\n"
     ]
    }
   ],
   "source": [
    "x = int(input(\"Enter a number\"))\n",
    "for i in range(5):\n",
    "    print(x*i)"
   ]
  },
  {
   "cell_type": "code",
   "execution_count": 15,
   "id": "dab4260a",
   "metadata": {},
   "outputs": [
    {
     "name": "stdout",
     "output_type": "stream",
     "text": [
      "Please enter a number: 10\n",
      "The number you have entered is:  10\n"
     ]
    }
   ],
   "source": [
    "num = int(input(\"Please enter a number: \"))\n",
    "print(\"The number you have entered is: \", num)"
   ]
  },
  {
   "cell_type": "code",
   "execution_count": 17,
   "id": "2409850e",
   "metadata": {},
   "outputs": [
    {
     "name": "stdout",
     "output_type": "stream",
     "text": [
      "please enter your full nameKashif Aziz Hunzai\n",
      "Full name:  Kashif Aziz Hunzai\n"
     ]
    }
   ],
   "source": [
    "name = input(\"please enter your full name\")\n",
    "print(\"Full name: \", name)"
   ]
  },
  {
   "cell_type": "code",
   "execution_count": 2,
   "id": "8fc77d97",
   "metadata": {},
   "outputs": [
    {
     "name": "stdin",
     "output_type": "stream",
     "text": [
      "Enter first number: 28\n",
      "Enter second number: 3\n"
     ]
    },
    {
     "name": "stdout",
     "output_type": "stream",
     "text": [
      "The sum is  31\n",
      "The product is  84\n",
      "The difference is  25\n",
      "The quotient is  9\n",
      "The modulus is  1\n"
     ]
    }
   ],
   "source": [
    "num1 = int(input(\"Enter first number:\"))\n",
    "num2 = int(input(\"Enter second number:\"))\n",
    "print(\"The sum is \", num1+num2)\n",
    "print(\"The product is \", num1*num2)\n",
    "print(\"The difference is \", num1-num2)\n",
    "print(\"The quotient is \", num1//num2)\n",
    "print(\"The modulus is \", num1%num2)"
   ]
  },
  {
   "cell_type": "code",
   "execution_count": 11,
   "id": "c995f954",
   "metadata": {},
   "outputs": [
    {
     "name": "stdout",
     "output_type": "stream",
     "text": [
      "  HHHHH\n",
      "   HHHH\n",
      "    HHH\n",
      "     HH\n",
      "      H\n"
     ]
    }
   ],
   "source": [
    "x = \"H\"\n",
    "y= \" \"\n",
    "print(y*1, x*5)\n",
    "print(y*2, x*4)\n",
    "print(y*3, x*3)\n",
    "print(y*4, x*2)\n",
    "print(y*5, x*1)"
   ]
  },
  {
   "cell_type": "code",
   "execution_count": 14,
   "id": "08de0e18-8936-4bf4-bc81-dc2fb9fd04d9",
   "metadata": {},
   "outputs": [
    {
     "name": "stdin",
     "output_type": "stream",
     "text": [
      "Enter your age 22\n"
     ]
    },
    {
     "name": "stdout",
     "output_type": "stream",
     "text": [
      "You are an adult\n"
     ]
    }
   ],
   "source": [
    "num = int(input(\"Enter your age\"))\n",
    "if num >= 18:\n",
    "    print(\"You are an adult\")\n",
    "else:\n",
    "    print(\"You are underage\")"
   ]
  },
  {
   "cell_type": "code",
   "execution_count": 16,
   "id": "9682a1dc-e775-4f0b-b78d-d88871664134",
   "metadata": {},
   "outputs": [
    {
     "name": "stdin",
     "output_type": "stream",
     "text": [
      "Enter a number:  3\n"
     ]
    },
    {
     "name": "stdout",
     "output_type": "stream",
     "text": [
      "Odd\n"
     ]
    }
   ],
   "source": [
    "num = int(input(\"Enter a number: \"))\n",
    "if num%2 == 0:\n",
    "    print(\"Even\")\n",
    "else:\n",
    "    print(\"Odd\")"
   ]
  },
  {
   "cell_type": "code",
   "execution_count": 25,
   "id": "68d40b73-f925-422d-bcf9-02d2759b7fa6",
   "metadata": {},
   "outputs": [
    {
     "name": "stdin",
     "output_type": "stream",
     "text": [
      "Enter first number:  33\n",
      "Enter first number:  44\n",
      "Enter first number:  33\n"
     ]
    },
    {
     "name": "stdout",
     "output_type": "stream",
     "text": [
      "44  is Largest\n",
      "33 is Smallest\n"
     ]
    }
   ],
   "source": [
    "num1 = int(input(\"Enter first number: \"))\n",
    "num2 = int(input(\"Enter first number: \"))\n",
    "num3 = int(input(\"Enter first number: \"))\n",
    "if num1>=num2 and num1>=num3:\n",
    "    print(num1, \"is largest\")\n",
    "elif num2>=num1 and num2>=num3:\n",
    "    print(num2, \" is Largest\")\n",
    "else:\n",
    "    print(num3, \" is Largest\")\n",
    "    \n",
    "if num1<=num2 and num1<=num3:\n",
    "    print(num1, \"is Smallest\")\n",
    "elif num2<=num1 and num2<=num3:\n",
    "    print(num2, \" is Smallest\")\n",
    "else:\n",
    "    print(num3, \" is Smallest\")"
   ]
  },
  {
   "cell_type": "code",
   "execution_count": 1,
   "id": "24038348-cec2-482a-9b44-9a2c4f0cab54",
   "metadata": {},
   "outputs": [
    {
     "data": {
      "text/plain": [
       "-48"
      ]
     },
     "execution_count": 1,
     "metadata": {},
     "output_type": "execute_result"
    }
   ],
   "source": [
    "6 * -----------8\n"
   ]
  },
  {
   "cell_type": "code",
   "execution_count": 2,
   "id": "94615cf4-dd17-4d5d-82f9-b7e51a673bd9",
   "metadata": {},
   "outputs": [
    {
     "ename": "SyntaxError",
     "evalue": "cannot assign to literal here. Maybe you meant '==' instead of '='? (1049067674.py, line 1)",
     "output_type": "error",
     "traceback": [
      "\u001b[1;36m  Cell \u001b[1;32mIn[2], line 1\u001b[1;36m\u001b[0m\n\u001b[1;33m    8 = people\u001b[0m\n\u001b[1;37m    ^\u001b[0m\n\u001b[1;31mSyntaxError\u001b[0m\u001b[1;31m:\u001b[0m cannot assign to literal here. Maybe you meant '==' instead of '='?\n"
     ]
    }
   ],
   "source": [
    "8 = people"
   ]
  },
  {
   "cell_type": "markdown",
   "id": "279a5c45-9c3c-4d0a-b477-9204dca9a516",
   "metadata": {},
   "source": [
    "There is a syntax error in the o statement. SyntaxError: We cannot assign to literal here."
   ]
  },
  {
   "cell_type": "code",
   "execution_count": 4,
   "id": "11e8eda9-75cb-4dbe-995b-e9bff2b589a7",
   "metadata": {},
   "outputs": [],
   "source": [
    "people = 8"
   ]
  },
  {
   "cell_type": "code",
   "execution_count": 5,
   "id": "0957c98e-b4c2-4495-b358-5b65493537ac",
   "metadata": {},
   "outputs": [
    {
     "data": {
      "text/plain": [
       "64"
      ]
     },
     "execution_count": 5,
     "metadata": {},
     "output_type": "execute_result"
    }
   ],
   "source": [
    "((((4 ** 3))))\n"
   ]
  },
  {
   "cell_type": "code",
   "execution_count": 6,
   "id": "43d3586d-907a-49f3-b0f0-5e2204b0f781",
   "metadata": {},
   "outputs": [
    {
     "data": {
      "text/plain": [
       "5"
      ]
     },
     "execution_count": 6,
     "metadata": {},
     "output_type": "execute_result"
    }
   ],
   "source": [
    "(-(-(-(-5))))\n"
   ]
  },
  {
   "cell_type": "code",
   "execution_count": 7,
   "id": "78d44f8d-a97e-4dda-aaef-53f782af1b9f",
   "metadata": {},
   "outputs": [
    {
     "ename": "SyntaxError",
     "evalue": "'literal' is an illegal expression for augmented assignment (3528955550.py, line 1)",
     "output_type": "error",
     "traceback": [
      "\u001b[1;36m  Cell \u001b[1;32mIn[7], line 1\u001b[1;36m\u001b[0m\n\u001b[1;33m    4 += 7 / 2\u001b[0m\n\u001b[1;37m    ^\u001b[0m\n\u001b[1;31mSyntaxError\u001b[0m\u001b[1;31m:\u001b[0m 'literal' is an illegal expression for augmented assignment\n"
     ]
    }
   ],
   "source": [
    "4 += 7 / 2\n"
   ]
  },
  {
   "cell_type": "markdown",
   "id": "5b89601a-fc12-42fd-9f16-394ce4c2efd6",
   "metadata": {},
   "source": [
    "Error: The literal in the above expression is illegal\n"
   ]
  },
  {
   "cell_type": "markdown",
   "id": "d2edfcc1-23c9-4dce-ba05-19588e7613e9",
   "metadata": {},
   "source": [
    "The correct syntax should be: "
   ]
  },
  {
   "cell_type": "code",
   "execution_count": 24,
   "id": "0ae74ea0-1f9b-471e-b17c-925acdf59812",
   "metadata": {},
   "outputs": [
    {
     "name": "stdout",
     "output_type": "stream",
     "text": [
      "7.5\n"
     ]
    }
   ],
   "source": [
    "x = 4\n",
    "x += 7 / 2\n",
    "print(x)"
   ]
  },
  {
   "cell_type": "code",
   "execution_count": 30,
   "id": "4f6a2ac2-2c21-421b-a602-51e0b86b3263",
   "metadata": {},
   "outputs": [
    {
     "name": "stdout",
     "output_type": "stream",
     "text": [
      "Number \t Square Cude \t\n",
      "0 \t 0 \t 0\n",
      "1 \t 1 \t 1\n",
      "2 \t 4 \t 8\n",
      "3 \t 9 \t 27\n",
      "4 \t 16 \t 64\n",
      "5 \t 25 \t 125\n",
      "6 \t 36 \t 216\n",
      "7 \t 49 \t 343\n",
      "8 \t 64 \t 512\n",
      "9 \t 81 \t 729\n",
      "10 \t 100 \t 1000\n"
     ]
    }
   ],
   "source": [
    "print(\"Number \\t Square Cude \\t\")\n",
    "for i in range (11):\n",
    "    print(i, \"\\t\", i**2, \"\\t\", i**3)"
   ]
  },
  {
   "cell_type": "code",
   "execution_count": 32,
   "id": "ca7543d9-9c62-488d-a687-f06466b7eee7",
   "metadata": {},
   "outputs": [
    {
     "name": "stdin",
     "output_type": "stream",
     "text": [
      " 23\n",
      " 32\n"
     ]
    },
    {
     "name": "stdout",
     "output_type": "stream",
     "text": [
      "num1 =  32\n",
      "num1 =  23\n"
     ]
    }
   ],
   "source": [
    "num1 = int(input())\n",
    "num2 = int(input())\n",
    "x = num1\n",
    "num1 = num2\n",
    "num2 = x\n",
    "print(\"num1 = \", num1)\n",
    "print(\"num1 = \", num2)"
   ]
  },
  {
   "cell_type": "code",
   "execution_count": 33,
   "id": "ea3ba37a-84e6-4254-9a14-d382a2ec099d",
   "metadata": {},
   "outputs": [
    {
     "name": "stdin",
     "output_type": "stream",
     "text": [
      "Please enter a 5 digit number:  22\n"
     ]
    }
   ],
   "source": [
    "num1 = int(input(\"Please enter a 5 digit number: \"))\n"
   ]
  },
  {
   "cell_type": "code",
   "execution_count": 30,
   "id": "e380114a-3760-4e7c-94d6-c8f0a1aa80e5",
   "metadata": {},
   "outputs": [
    {
     "name": "stdout",
     "output_type": "stream",
     "text": [
      "Please enter a 5 digit number: 65436\n",
      "63456"
     ]
    }
   ],
   "source": [
    "x = int(input(\"Please enter a 5 digit number: \"))\n",
    "reverse = 0\n",
    "reverse = (x%10)\n",
    "x = x//10\n",
    "print(reverse, end='')\n",
    "\n",
    "reverse = (x%10)\n",
    "x=x//10\n",
    "print(reverse, end='')\n",
    "\n",
    "reverse = (x%10)\n",
    "x=x//10\n",
    "print(reverse, end='')\n",
    "\n",
    "reverse = (x%10)\n",
    "x=x//10\n",
    "print(reverse, end='')\n",
    "\n",
    "reverse = (x%10)\n",
    "x=x//10\n",
    "print(reverse, end='')\n",
    "\n"
   ]
  },
  {
   "cell_type": "code",
   "execution_count": 2,
   "id": "5db428bf-5517-499b-aeb9-4dfac9a6d3c0",
   "metadata": {},
   "outputs": [
    {
     "name": "stdout",
     "output_type": "stream",
     "text": [
      "Enter hyp5\n",
      "Enter base4\n",
      "Enter per3\n",
      "The three integers are the sides of a right triangle\n"
     ]
    }
   ],
   "source": [
    "h = int(input(\"Enter hyp\"))\n",
    "b = int(input(\"Enter base\")) \n",
    "p = int(input(\"Enter per\")) \n",
    "\n",
    "if h**2 == b**2 + p**2:\n",
    "    print(\"The three integers are the sides of a right triangle\")\n",
    "else:\n",
    "    print(\"These numbers are not right triangle\")\n",
    "    \n"
   ]
  },
  {
   "cell_type": "code",
   "execution_count": 3,
   "id": "c8a4ac95-882b-442e-aef5-127ce09f490d",
   "metadata": {},
   "outputs": [
    {
     "name": "stdout",
     "output_type": "stream",
     "text": [
      "**********\n",
      "*        *\n",
      "*        *\n",
      "*        *\n",
      "*        *\n",
      "*        *\n",
      "*        *\n",
      "**********\n"
     ]
    }
   ],
   "source": [
    "print(\"**********\")\n",
    "print(\"*        *\")\n",
    "print(\"*        *\")\n",
    "print(\"*        *\")\n",
    "print(\"*        *\")\n",
    "print(\"*        *\")\n",
    "print(\"*        *\")\n",
    "print(\"**********\")\n"
   ]
  },
  {
   "cell_type": "code",
   "execution_count": 4,
   "id": "7daf236b",
   "metadata": {},
   "outputs": [
    {
     "name": "stdout",
     "output_type": "stream",
     "text": [
      "   ****   \n",
      " *      * \n",
      "*        *\n",
      "*        *\n",
      "*        *\n",
      " *      * \n",
      "   ****   \n"
     ]
    }
   ],
   "source": [
    "print(\"   ****   \")\n",
    "print(\" *      * \")\n",
    "print(\"*        *\")\n",
    "print(\"*        *\")\n",
    "print(\"*        *\")\n",
    "print(\" *      * \")\n",
    "print(\"   ****   \")"
   ]
  },
  {
   "cell_type": "code",
   "execution_count": 12,
   "id": "a2aab998",
   "metadata": {},
   "outputs": [
    {
     "name": "stdout",
     "output_type": "stream",
     "text": [
      "Enter your score: 66\n",
      "you have got D grade\n"
     ]
    }
   ],
   "source": [
    "score = int(input(\"Enter your score: \"))\n",
    "if score >= 90 and score <=100:\n",
    "    print(\"you have got A grade\")\n",
    "elif score >= 80 and score <90:\n",
    "    print(\"you have got B grade\")\n",
    "elif score >= 70 and score <80:\n",
    "    print(\"you have got C grade\")\n",
    "elif score >= 60 and score <70:\n",
    "    print(\"you have got D grade\")\n",
    "elif score >= 50 and score <60:\n",
    "    print(\"you have got E grade\")\n",
    "elif score < 50 and score >= 0:\n",
    "    print(\"you have Failed the Exam\")\n",
    "else:\n",
    "    (\"Please enter a valid score\")"
   ]
  },
  {
   "cell_type": "code",
   "execution_count": 29,
   "id": "18709446",
   "metadata": {},
   "outputs": [
    {
     "name": "stdout",
     "output_type": "stream",
     "text": [
      "Please enter a 5 digit number: 12223\n",
      "32221\n",
      "This is not a palindrome number\n"
     ]
    }
   ],
   "source": [
    "x = int(input(\"Please enter a 5 digit number: \"))\n",
    "num1 = x\n",
    "reverse = 0\n",
    "reverse = (reverse*10) + (x%10)\n",
    "x=x//10\n",
    "\n",
    "reverse = (reverse*10) + (x%10)\n",
    "x=x//10\n",
    "\n",
    "reverse = (reverse*10) +  (x%10)\n",
    "x=x//10\n",
    "\n",
    "reverse = (reverse*10) +  (x%10)\n",
    "x=x//10\n",
    "\n",
    "reverse = (reverse*10) + (x%10)\n",
    "x=x//10\n",
    "print(reverse)\n",
    "\n",
    "if num1 == reverse:\n",
    "    print(\"This is a paldrome number\")\n",
    "else:\n",
    "    print(\"This is not a palindrome number\")"
   ]
  },
  {
   "cell_type": "code",
   "execution_count": 5,
   "id": "e93de935",
   "metadata": {},
   "outputs": [
    {
     "name": "stdout",
     "output_type": "stream",
     "text": [
      "Whats the time: 10\n",
      "AM = 1 or PM = 2 2\n",
      "How many hours do you want to go in future: 5\n",
      "You will go to  3  am in future\n"
     ]
    }
   ],
   "source": [
    "time = int(input(\"Whats the time: \"))\n",
    "amORpm = int(input(\"AM = 1 or PM = 2 \"))\n",
    "\n",
    "if amORpm == 1:\n",
    "    time = time\n",
    "else:\n",
    "    time = time + 12\n",
    "\n",
    "if time>12:\n",
    "    time = time - 12\n",
    "else: \n",
    "    time = time\n",
    "\n",
    "future = int(input(\"How many hours do you want to go in future: \"))\n",
    "\n",
    "time = time + future\n",
    "\n",
    "if time>12:\n",
    "    time = time - 12\n",
    "    print(\"You will go to \", time, \" am in future\")\n",
    "else: \n",
    "    time = time\n",
    "    print(\"You will go to \", time, \" pm in future\")"
   ]
  },
  {
   "cell_type": "markdown",
   "id": "f6368127",
   "metadata": {},
   "source": [
    "##### "
   ]
  }
 ],
 "metadata": {
  "kernelspec": {
   "display_name": "Python 3 (ipykernel)",
   "language": "python",
   "name": "python3"
  },
  "language_info": {
   "codemirror_mode": {
    "name": "ipython",
    "version": 3
   },
   "file_extension": ".py",
   "mimetype": "text/x-python",
   "name": "python",
   "nbconvert_exporter": "python",
   "pygments_lexer": "ipython3",
   "version": "3.10.9"
  }
 },
 "nbformat": 4,
 "nbformat_minor": 5
}
