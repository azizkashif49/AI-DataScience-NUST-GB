{
 "cells": [
  {
   "cell_type": "markdown",
   "id": "c84be399",
   "metadata": {},
   "source": [
    "VARIANCE"
   ]
  },
  {
   "cell_type": "code",
   "execution_count": 12,
   "id": "acedb064",
   "metadata": {},
   "outputs": [],
   "source": [
    "def variance(data):\n",
    "    # Number of observations\n",
    "    n = len(data)\n",
    "    # Mean of the data\n",
    "    mean = sum(data) / n\n",
    "    # Square deviations\n",
    "    deviations = [(x - mean) ** 2 for x in data]\n",
    "    # Variance\n",
    "    Variance = sum(deviations) / n\n",
    "    return variance"
   ]
  },
  {
   "cell_type": "code",
   "execution_count": 13,
   "id": "ebe69611",
   "metadata": {},
   "outputs": [
    {
     "name": "stdout",
     "output_type": "stream",
     "text": [
      "Covariance: 5.0\n"
     ]
    }
   ],
   "source": [
    "import numpy as np\n",
    "\n",
    "def covariance(x, y):\n",
    "    assert len(x) == len(y)\n",
    "    n = len(x)\n",
    "    mean_x = np.mean(x)\n",
    "    mean_y = np.mean(y)\n",
    "    cov = np.sum((x - mean_x) * (y - mean_y)) / (n - 1)\n",
    "    return cov\n",
    "\n",
    "# Example data\n",
    "x = np.array([1, 2, 3, 4, 5])\n",
    "y = np.array([2, 4, 6, 8, 10])\n",
    "\n",
    "# Calculating covariance\n",
    "covariance_value = covariance(x, y)\n",
    "print(\"Covariance:\", covariance_value)\n"
   ]
  },
  {
   "cell_type": "code",
   "execution_count": 15,
   "id": "9548c16e",
   "metadata": {},
   "outputs": [
    {
     "name": "stdout",
     "output_type": "stream",
     "text": [
      "Correlation Matrix:\n",
      "[[ 1. -1.  1.]\n",
      " [-1.  1. -1.]\n",
      " [ 1. -1.  1.]]\n"
     ]
    }
   ],
   "source": [
    "import numpy as np\n",
    "\n",
    "def correlation_matrix(data):\n",
    "    # Calculate the correlation matrix\n",
    "    corr_matrix = np.corrcoef(data)\n",
    "    return corr_matrix\n",
    "\n",
    "# Example data\n",
    "data = np.array([[1, 2, 3], [6, 5, 4], [7, 8, 9]])\n",
    "\n",
    "# Calculating the correlation matrix\n",
    "correlation_matrix = correlation_matrix(data)\n",
    "print(\"Correlation Matrix:\")\n",
    "print(correlation_matrix)\n"
   ]
  },
  {
   "cell_type": "code",
   "execution_count": 16,
   "id": "e944eabf",
   "metadata": {},
   "outputs": [
    {
     "name": "stdout",
     "output_type": "stream",
     "text": [
      "Covariance Matrix:\n",
      "[[19.          8.         -5.        ]\n",
      " [ 8.          4.          0.        ]\n",
      " [-5.          0.          8.33333333]]\n"
     ]
    }
   ],
   "source": [
    "import numpy as np\n",
    "\n",
    "def covariance_matrix(data):\n",
    "# Calculate the covariance matrix\n",
    "    cov_matrix = np.cov(data, rowvar=False)\n",
    "    return cov_matrix\n",
    "\n",
    "# Example data\n",
    "data = np.array([[9, 6, 3], [1, 2, 3], [2, 4, 8]])\n",
    "\n",
    "# Calculating the covariance matrix\n",
    "covariance_mat = covariance_matrix(data)\n",
    "print(\"Covariance Matrix:\")\n",
    "print(covariance_mat)\n"
   ]
  },
  {
   "cell_type": "code",
   "execution_count": 19,
   "id": "6dd686ec",
   "metadata": {},
   "outputs": [
    {
     "name": "stdout",
     "output_type": "stream",
     "text": [
      "Eigenvalues:\n",
      "[-0.37228132  5.37228132]\n",
      "Eigenvectors:\n",
      "[[-0.82456484 -0.41597356]\n",
      " [ 0.56576746 -0.90937671]]\n"
     ]
    }
   ],
   "source": [
    "import numpy as np\n",
    "\n",
    "# Example matrix\n",
    "matrix = np.array([[1, 2], [3, 4]])\n",
    "\n",
    "# Calculating eigenvalues and eigenvectors\n",
    "eigenvalues, eigenvectors = np.linalg.eig(matrix)\n",
    "\n",
    "# Printing the eigenvalues\n",
    "print(\"Eigenvalues:\")\n",
    "print(eigenvalues)\n",
    "\n",
    "# Printing the eigenvectors\n",
    "print(\"Eigenvectors:\")\n",
    "print(eigenvectors)"
   ]
  },
  {
   "cell_type": "code",
   "execution_count": null,
   "id": "acf71a7c",
   "metadata": {},
   "outputs": [],
   "source": []
  }
 ],
 "metadata": {
  "kernelspec": {
   "display_name": "Python 3 (ipykernel)",
   "language": "python",
   "name": "python3"
  },
  "language_info": {
   "codemirror_mode": {
    "name": "ipython",
    "version": 3
   },
   "file_extension": ".py",
   "mimetype": "text/x-python",
   "name": "python",
   "nbconvert_exporter": "python",
   "pygments_lexer": "ipython3",
   "version": "3.10.9"
  }
 },
 "nbformat": 4,
 "nbformat_minor": 5
}
