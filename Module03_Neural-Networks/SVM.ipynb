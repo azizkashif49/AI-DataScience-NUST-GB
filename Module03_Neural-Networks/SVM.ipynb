{
 "cells": [
  {
   "cell_type": "markdown",
   "id": "4281a376",
   "metadata": {},
   "source": [
    "Figure 1: We are importing all the libraries that will be required for performing various tasks such as SVM\n",
    "classification, data split, reading files, plotting maps, etc.\n"
   ]
  },
  {
   "cell_type": "code",
   "execution_count": 1,
   "id": "39a10bc0",
   "metadata": {},
   "outputs": [],
   "source": [
    "import pandas as pd\n",
    "import numpy as np\n",
    "import matplotlib.pyplot as plt\n",
    "import seaborn as sns\n",
    "from sklearn.svm import SVC\n",
    "from sklearn.metrics import classification_report, accuracy_score, confusion_matrix\n",
    "from sklearn.model_selection import train_test_split"
   ]
  },
  {
   "cell_type": "markdown",
   "id": "55853345",
   "metadata": {},
   "source": [
    "Figure 2: We are writing a function to read the csv file using pandas library and its read file function. In the\n",
    "next code block, we created a function for training and testing the svm model using the sckit-learn library.\n",
    "The data is divided into training and testing data sets and is used accordingly."
   ]
  },
  {
   "cell_type": "code",
   "execution_count": 16,
   "id": "2ec82f67",
   "metadata": {},
   "outputs": [],
   "source": [
    "# Data Reading\n",
    "\n",
    "def readData(file_name):\n",
    "    data = pd.read_csv(file_name)\n",
    "    x = data.drop(['class_type'], axis=1)\n",
    "    y = data['class_type']\n",
    "    return x, y\n",
    "\n",
    "def svm(x, y):\n",
    "    x_train, x_test, y_train, y_test = train_test_split(x, y, stratify = y, test_size=0.2, random_state=0)\n",
    "    model = SVC(kernel='linear')\n",
    "    \n",
    "    # Fitting the model Accordigly\n",
    "    model.fit(x_train, y_train)\n",
    "    \n",
    "    # Calculating training score of the Our Model\n",
    "    y_train_pred = model.predict(x_train)\n",
    "    print(\"aTraining Score: \", accuracy_score(y_train, y_train_pred))\n",
    "    # Calculating testing score of our model\n",
    "    y_test_pred = model.predict(x_test)\n",
    "    accuracy = accuracy_score(y_test, y_test_pred)\n",
    "    print(\"Test Score:\", accuracy)\n",
    "    return y_test_pred, y_test"
   ]
  },
  {
   "cell_type": "markdown",
   "id": "df7cb4e3",
   "metadata": {},
   "source": [
    "Figure 3: The data file is fed to the read file function and the training and testing process is done by calling\n",
    "the svm function."
   ]
  },
  {
   "cell_type": "code",
   "execution_count": 17,
   "id": "133b3beb",
   "metadata": {},
   "outputs": [
    {
     "name": "stdout",
     "output_type": "stream",
     "text": [
      "aTraining Score:  1.0\n",
      "Test Score: 1.0\n"
     ]
    }
   ],
   "source": [
    "x, y = readData(\"C:/Users/User/Desktop/AI_Labs/SVM/SVM_dataset.csv\")\n",
    "y_test_pred, y_test = svm(x, y)"
   ]
  },
  {
   "cell_type": "markdown",
   "id": "332b02f7",
   "metadata": {},
   "source": [
    "Figure 4: The results are mapped on a confusion matrix to see the prediction accuracy and the predicted\n",
    "values."
   ]
  },
  {
   "cell_type": "code",
   "execution_count": 24,
   "id": "a90ba361",
   "metadata": {},
   "outputs": [
    {
     "data": {
      "text/plain": [
       "<Axes: >"
      ]
     },
     "execution_count": 24,
     "metadata": {},
     "output_type": "execute_result"
    },
    {
     "data": {
      "image/png": "[encoded data removed]",
      "text/plain": [
       "<Figure size 800x640 with 2 Axes>"
      ]
     },
     "metadata": {},
     "output_type": "display_data"
    }
   ],
   "source": [
    "plt.figure(figsize=(10,8), dpi=80)\n",
    "sns.heatmap(confusion_matrix(y_test, y_test_pred), annot=True)"
   ]
  },
  {
   "cell_type": "code",
   "execution_count": null,
   "id": "7b4ce39d",
   "metadata": {},
   "outputs": [],
   "source": []
  }
 ],
 "metadata": {
  "kernelspec": {
   "display_name": "Python 3 (ipykernel)",
   "language": "python",
   "name": "python3"
  },
  "language_info": {
   "codemirror_mode": {
    "name": "ipython",
    "version": 3
   },
   "file_extension": ".py",
   "mimetype": "text/x-python",
   "name": "python",
   "nbconvert_exporter": "python",
   "pygments_lexer": "ipython3",
   "version": "3.10.9"
  }
 },
 "nbformat": 4,
 "nbformat_minor": 5
}
