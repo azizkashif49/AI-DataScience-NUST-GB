{
  "nbformat": 4,
  "nbformat_minor": 0,
  "metadata": {
    "colab": {
      "provenance": [],
      "gpuType": "T4"
    },
    "kernelspec": {
      "name": "python3",
      "display_name": "Python 3"
    },
    "language_info": {
      "name": "python"
    },
    "accelerator": "GPU"
  },
  "cells": [
    {
      "cell_type": "code",
      "execution_count": 1,
      "metadata": {
        "colab": {
          "base_uri": "https://localhost:8080/"
        },
        "id": "i4E_kwHUQm6B",
        "outputId": "590112cd-e6d1-448c-c1ec-3133ca14c22a"
      },
      "outputs": [
        {
          "output_type": "stream",
          "name": "stdout",
          "text": [
            "Drive already mounted at /content/drive; to attempt to forcibly remount, call drive.mount(\"/content/drive\", force_remount=True).\n"
          ]
        }
      ],
      "source": [
        "# Mount Google Drive\n",
        "from google.colab import drive\n",
        "drive.mount('/content/drive')"
      ]
    },
    {
      "cell_type": "code",
      "source": [
        "import tensorflow as tf\n",
        "from tensorflow.keras.preprocessing.image import ImageDataGenerator\n",
        "from tensorflow.keras.applications import VGG16\n",
        "from tensorflow.keras import layers, models\n",
        "from tensorflow.keras.optimizers import Adam\n",
        "from sklearn.metrics import classification_report, confusion_matrix\n",
        "import seaborn as sns\n",
        "import matplotlib.pyplot as plt"
      ],
      "metadata": {
        "id": "Qf3P61yKVfSO"
      },
      "execution_count": 2,
      "outputs": []
    },
    {
      "cell_type": "code",
      "source": [
        "# Define the data directory\n",
        "data_dir = '/content/drive/MyDrive/ClassificationUsingCNN/Images'"
      ],
      "metadata": {
        "id": "FLsIAIHhVfrI"
      },
      "execution_count": 3,
      "outputs": []
    },
    {
      "cell_type": "code",
      "source": [
        "# Define image size and batch size\n",
        "img_size = (256, 256)\n",
        "batch_size = 32"
      ],
      "metadata": {
        "id": "J2c3GFSTVg6b"
      },
      "execution_count": 4,
      "outputs": []
    },
    {
      "cell_type": "code",
      "source": [
        "# Create an instance of the ImageDataGenerator\n",
        "datagen = ImageDataGenerator(rescale=1./255, validation_split=0.2)"
      ],
      "metadata": {
        "id": "zYXw24psViDG"
      },
      "execution_count": 5,
      "outputs": []
    },
    {
      "cell_type": "code",
      "source": [
        "# Generate the training dataset\n",
        "train_generator = datagen.flow_from_directory(\n",
        "    data_dir,\n",
        "    target_size=img_size,\n",
        "    batch_size=batch_size,\n",
        "    class_mode='binary',\n",
        "    subset='training',\n",
        "    seed=123\n",
        ")"
      ],
      "metadata": {
        "colab": {
          "base_uri": "https://localhost:8080/"
        },
        "id": "uF1zOA7bVjgL",
        "outputId": "c9fee14e-e97c-4cf8-829b-a48d653ada7b"
      },
      "execution_count": 6,
      "outputs": [
        {
          "output_type": "stream",
          "name": "stdout",
          "text": [
            "Found 357 images belonging to 2 classes.\n"
          ]
        }
      ]
    },
    {
      "cell_type": "code",
      "source": [
        "# Generate the validation dataset\n",
        "val_generator = datagen.flow_from_directory(\n",
        "    data_dir,\n",
        "    target_size=img_size,\n",
        "    batch_size=batch_size,\n",
        "    class_mode='binary',\n",
        "    subset='validation',\n",
        "    seed=123\n",
        ")"
      ],
      "metadata": {
        "colab": {
          "base_uri": "https://localhost:8080/"
        },
        "id": "shimp_qqVlBr",
        "outputId": "76a08668-6d91-4f6b-de7d-d539cf5657a4"
      },
      "execution_count": 7,
      "outputs": [
        {
          "output_type": "stream",
          "name": "stdout",
          "text": [
            "Found 88 images belonging to 2 classes.\n"
          ]
        }
      ]
    },
    {
      "cell_type": "code",
      "source": [
        "# Generate the test dataset\n",
        "test_datagen = ImageDataGenerator(rescale=1./255)\n",
        "test_generator = test_datagen.flow_from_directory(\n",
        "    data_dir,\n",
        "    target_size=img_size,\n",
        "    batch_size=batch_size,\n",
        "    class_mode='binary',\n",
        "    shuffle=False,\n",
        "    seed=123\n",
        ")"
      ],
      "metadata": {
        "colab": {
          "base_uri": "https://localhost:8080/"
        },
        "id": "AwSykOaCVmWx",
        "outputId": "f5741380-0e2c-473b-877f-f084f14bf5ac"
      },
      "execution_count": 8,
      "outputs": [
        {
          "output_type": "stream",
          "name": "stdout",
          "text": [
            "Found 445 images belonging to 2 classes.\n"
          ]
        }
      ]
    },
    {
      "cell_type": "code",
      "source": [
        "# Load the pre-trained VGG16 model without the top (fully connected) layers\n",
        "base_model = VGG16(weights='imagenet', include_top=False, input_shape=(256, 256, 3))"
      ],
      "metadata": {
        "id": "JyWAV8kqVn9x"
      },
      "execution_count": 9,
      "outputs": []
    },
    {
      "cell_type": "code",
      "source": [
        "# Freeze the pre-trained layers\n",
        "for layer in base_model.layers:\n",
        "    layer.trainable = False"
      ],
      "metadata": {
        "id": "9cPIK0EkV7hF"
      },
      "execution_count": 10,
      "outputs": []
    },
    {
      "cell_type": "code",
      "source": [
        "# Create a new model on top of the pre-trained base model\n",
        "model = models.Sequential()\n",
        "model.add(base_model)\n",
        "model.add(layers.Flatten())\n",
        "model.add(layers.Dense(256, activation='relu'))\n",
        "model.add(layers.Dense(1, activation='sigmoid'))"
      ],
      "metadata": {
        "id": "IpmzZSfcV9J2"
      },
      "execution_count": 11,
      "outputs": []
    },
    {
      "cell_type": "code",
      "source": [
        "# Compile the model\n",
        "model.compile(optimizer=Adam(lr=1e-4), loss='binary_crossentropy', metrics=['accuracy'])"
      ],
      "metadata": {
        "colab": {
          "base_uri": "https://localhost:8080/"
        },
        "id": "KARCaIBSWAAh",
        "outputId": "97cbd2b2-8a0f-4bef-8509-b31da86277cb"
      },
      "execution_count": 12,
      "outputs": [
        {
          "output_type": "stream",
          "name": "stderr",
          "text": [
            "WARNING:absl:`lr` is deprecated in Keras optimizer, please use `learning_rate` or use the legacy optimizer, e.g.,tf.keras.optimizers.legacy.Adam.\n"
          ]
        }
      ]
    },
    {
      "cell_type": "code",
      "source": [
        "# Display the model summary\n",
        "model.summary()"
      ],
      "metadata": {
        "colab": {
          "base_uri": "https://localhost:8080/"
        },
        "id": "2TE4zTh5WBiS",
        "outputId": "3c03cf5f-008b-4453-a8d9-2bcb8651f55e"
      },
      "execution_count": 13,
      "outputs": [
        {
          "output_type": "stream",
          "name": "stdout",
          "text": [
            "Model: \"sequential\"\n",
            "_________________________________________________________________\n",
            " Layer (type)                Output Shape              Param #   \n",
            "=================================================================\n",
            " vgg16 (Functional)          (None, 8, 8, 512)         14714688  \n",
            "                                                                 \n",
            " flatten (Flatten)           (None, 32768)             0         \n",
            "                                                                 \n",
            " dense (Dense)               (None, 256)               8388864   \n",
            "                                                                 \n",
            " dense_1 (Dense)             (None, 1)                 257       \n",
            "                                                                 \n",
            "=================================================================\n",
            "Total params: 23103809 (88.13 MB)\n",
            "Trainable params: 8389121 (32.00 MB)\n",
            "Non-trainable params: 14714688 (56.13 MB)\n",
            "_________________________________________________________________\n"
          ]
        }
      ]
    },
    {
      "cell_type": "code",
      "source": [
        "# Train the model\n",
        "history = model.fit(\n",
        "    train_generator,\n",
        "    epochs=20,\n",
        "    validation_data=val_generator\n",
        ")"
      ],
      "metadata": {
        "colab": {
          "base_uri": "https://localhost:8080/"
        },
        "id": "MrWbfbm1WDDl",
        "outputId": "97ae8596-876d-4271-fa01-1cab2067b1c7"
      },
      "execution_count": 14,
      "outputs": [
        {
          "output_type": "stream",
          "name": "stdout",
          "text": [
            "Epoch 1/20\n",
            "12/12 [==============================] - 18s 796ms/step - loss: 2.3999 - accuracy: 0.5546 - val_loss: 0.8993 - val_accuracy: 0.5000\n",
            "Epoch 2/20\n",
            "12/12 [==============================] - 4s 326ms/step - loss: 0.4629 - accuracy: 0.7787 - val_loss: 0.4538 - val_accuracy: 0.8068\n",
            "Epoch 3/20\n",
            "12/12 [==============================] - 4s 290ms/step - loss: 0.2163 - accuracy: 0.9160 - val_loss: 0.3441 - val_accuracy: 0.8409\n",
            "Epoch 4/20\n",
            "12/12 [==============================] - 4s 330ms/step - loss: 0.1243 - accuracy: 0.9664 - val_loss: 0.3454 - val_accuracy: 0.8409\n",
            "Epoch 5/20\n",
            "12/12 [==============================] - 4s 298ms/step - loss: 0.1167 - accuracy: 0.9636 - val_loss: 0.2814 - val_accuracy: 0.8636\n",
            "Epoch 6/20\n",
            "12/12 [==============================] - 3s 264ms/step - loss: 0.0735 - accuracy: 0.9832 - val_loss: 0.2849 - val_accuracy: 0.9091\n",
            "Epoch 7/20\n",
            "12/12 [==============================] - 3s 266ms/step - loss: 0.0707 - accuracy: 0.9832 - val_loss: 0.2797 - val_accuracy: 0.9091\n",
            "Epoch 8/20\n",
            "12/12 [==============================] - 4s 331ms/step - loss: 0.0472 - accuracy: 0.9916 - val_loss: 0.2584 - val_accuracy: 0.8636\n",
            "Epoch 9/20\n",
            "12/12 [==============================] - 3s 292ms/step - loss: 0.0406 - accuracy: 0.9916 - val_loss: 0.2365 - val_accuracy: 0.8864\n",
            "Epoch 10/20\n",
            "12/12 [==============================] - 3s 264ms/step - loss: 0.0295 - accuracy: 0.9944 - val_loss: 0.2413 - val_accuracy: 0.8750\n",
            "Epoch 11/20\n",
            "12/12 [==============================] - 4s 319ms/step - loss: 0.0248 - accuracy: 0.9972 - val_loss: 0.2368 - val_accuracy: 0.9205\n",
            "Epoch 12/20\n",
            "12/12 [==============================] - 5s 370ms/step - loss: 0.0246 - accuracy: 0.9972 - val_loss: 0.2237 - val_accuracy: 0.9091\n",
            "Epoch 13/20\n",
            "12/12 [==============================] - 3s 280ms/step - loss: 0.0197 - accuracy: 0.9972 - val_loss: 0.2392 - val_accuracy: 0.9205\n",
            "Epoch 14/20\n",
            "12/12 [==============================] - 3s 264ms/step - loss: 0.0330 - accuracy: 0.9944 - val_loss: 0.2810 - val_accuracy: 0.8409\n",
            "Epoch 15/20\n",
            "12/12 [==============================] - 3s 268ms/step - loss: 0.0283 - accuracy: 0.9972 - val_loss: 0.2397 - val_accuracy: 0.9205\n",
            "Epoch 16/20\n",
            "12/12 [==============================] - 4s 340ms/step - loss: 0.0240 - accuracy: 0.9972 - val_loss: 0.2475 - val_accuracy: 0.9091\n",
            "Epoch 17/20\n",
            "12/12 [==============================] - 4s 319ms/step - loss: 0.0148 - accuracy: 0.9972 - val_loss: 0.2517 - val_accuracy: 0.8977\n",
            "Epoch 18/20\n",
            "12/12 [==============================] - 3s 265ms/step - loss: 0.0196 - accuracy: 0.9944 - val_loss: 0.2737 - val_accuracy: 0.9205\n",
            "Epoch 19/20\n",
            "12/12 [==============================] - 3s 268ms/step - loss: 0.0143 - accuracy: 0.9944 - val_loss: 0.2457 - val_accuracy: 0.8977\n",
            "Epoch 20/20\n",
            "12/12 [==============================] - 4s 346ms/step - loss: 0.0109 - accuracy: 0.9972 - val_loss: 0.2432 - val_accuracy: 0.9205\n"
          ]
        }
      ]
    },
    {
      "cell_type": "code",
      "source": [
        "# Plot training history\n",
        "plt.plot(history.history['accuracy'], label='accuracy')\n",
        "plt.plot(history.history['val_accuracy'], label='val_accuracy')\n",
        "plt.xlabel('Epoch')\n",
        "plt.ylabel('Accuracy')\n",
        "plt.ylim([0, 1])\n",
        "plt.legend(loc='lower right')\n",
        "plt.show()"
      ],
      "metadata": {
        "colab": {
          "base_uri": "https://localhost:8080/",
          "height": 455
        },
        "id": "0aT-JafCWEq_",
        "outputId": "c4a84fc0-1939-4ca8-8018-5a7f95ed45ba"
      },
      "execution_count": 15,
      "outputs": [
        {
          "output_type": "display_data",
          "data": {
            "text/plain": [
              "<Figure size 640x480 with 1 Axes>"
            ],
            "image/png": "[encoded data removed]"
          },
          "metadata": {}
        }
      ]
    },
    {
      "cell_type": "code",
      "source": [
        "# Plot training & validation loss values\n",
        "plt.plot(history.history['loss'])\n",
        "plt.plot(history.history['val_loss'])\n",
        "plt.title('Model loss')\n",
        "plt.ylabel('Loss')\n",
        "plt.xlabel('Epoch')\n",
        "plt.legend(['Train', 'Validation'], loc='upper left')\n",
        "plt.show()"
      ],
      "metadata": {
        "colab": {
          "base_uri": "https://localhost:8080/",
          "height": 472
        },
        "id": "c38LiWOoWhp5",
        "outputId": "72c717f5-9cf6-4b04-f49a-f452cdf5fef9"
      },
      "execution_count": 16,
      "outputs": [
        {
          "output_type": "display_data",
          "data": {
            "text/plain": [
              "<Figure size 640x480 with 1 Axes>"
            ],
            "image/png": "[encoded data removed]"
          },
          "metadata": {}
        }
      ]
    },
    {
      "cell_type": "code",
      "source": [
        "# Evaluate the model on the test set\n",
        "predictions = model.predict(test_generator)"
      ],
      "metadata": {
        "colab": {
          "base_uri": "https://localhost:8080/"
        },
        "id": "5zV5ykDVWkfd",
        "outputId": "292007c0-f016-4bb7-cff2-a937141903b1"
      },
      "execution_count": 17,
      "outputs": [
        {
          "output_type": "stream",
          "name": "stdout",
          "text": [
            "14/14 [==============================] - 10s 668ms/step\n"
          ]
        }
      ]
    },
    {
      "cell_type": "code",
      "source": [
        "# Convert to binary labels (0 or 1)\n",
        "y_true = test_generator.classes\n",
        "y_pred = (predictions > 0.5).astype(int)"
      ],
      "metadata": {
        "id": "PYfgJ7wJWmXY"
      },
      "execution_count": 18,
      "outputs": []
    },
    {
      "cell_type": "code",
      "source": [
        "# Print classification report\n",
        "print(\"Classification Report:\\n\", classification_report(y_true, y_pred))"
      ],
      "metadata": {
        "colab": {
          "base_uri": "https://localhost:8080/"
        },
        "id": "79huce_DWpIz",
        "outputId": "a3e0c7c3-0b8f-418c-a463-eabe81b18a28"
      },
      "execution_count": 19,
      "outputs": [
        {
          "output_type": "stream",
          "name": "stdout",
          "text": [
            "Classification Report:\n",
            "               precision    recall  f1-score   support\n",
            "\n",
            "           0       0.99      0.97      0.98       198\n",
            "           1       0.98      0.99      0.98       247\n",
            "\n",
            "    accuracy                           0.98       445\n",
            "   macro avg       0.98      0.98      0.98       445\n",
            "weighted avg       0.98      0.98      0.98       445\n",
            "\n"
          ]
        }
      ]
    },
    {
      "cell_type": "code",
      "source": [
        "# Print confusion matrix\n",
        "cm = confusion_matrix(y_true, y_pred)\n",
        "plt.figure(figsize=(8, 6))\n",
        "sns.heatmap(cm, annot=True, fmt='d', cmap='Blues', xticklabels=['Mud', 'Shed'], yticklabels=['Mud', 'Shed'])\n",
        "plt.xlabel('Predicted Label')\n",
        "plt.ylabel('True Label')\n",
        "plt.title('Confusion Matrix')\n",
        "plt.show()"
      ],
      "metadata": {
        "colab": {
          "base_uri": "https://localhost:8080/",
          "height": 561
        },
        "id": "zkswHm4eWqnr",
        "outputId": "c90798f5-720b-421a-fd5c-a5bd4870adbc"
      },
      "execution_count": 20,
      "outputs": [
        {
          "output_type": "display_data",
          "data": {
            "text/plain": [
              "<Figure size 800x600 with 2 Axes>"
            ],
            "image/png": "[encoded data removed]"
          },
          "metadata": {}
        }
      ]
    },
    {
      "cell_type": "code",
      "source": [
        "# Save the model\n",
        "model.save('/content/drive/MyDrive/ClassificationUsingVGG16Model')"
      ],
      "metadata": {
        "id": "ew8gOIofWsiX"
      },
      "execution_count": 21,
      "outputs": []
    },
    {
      "cell_type": "code",
      "source": [],
      "metadata": {
        "id": "EqW0OxAhXh6I"
      },
      "execution_count": null,
      "outputs": []
    }
  ]
}