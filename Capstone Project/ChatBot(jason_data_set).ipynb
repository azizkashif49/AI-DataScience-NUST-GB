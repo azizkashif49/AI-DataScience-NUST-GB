{
  "nbformat": 4,
  "nbformat_minor": 0,
  "metadata": {
    "colab": {
      "provenance": [],
      "gpuType": "T4",
      "authorship_tag": "ABX9TyOAq14YU1zFYbmPjX1Pyivb",
      "include_colab_link": true
    },
    "kernelspec": {
      "name": "python3",
      "display_name": "Python 3"
    },
    "language_info": {
      "name": "python"
    },
    "accelerator": "GPU"
  },
  "cells": [
    {
      "cell_type": "markdown",
      "metadata": {
        "id": "view-in-github",
        "colab_type": "text"
      },
      "source": [
        "<a href=\"https://colab.research.google.com/github/ehtisham409/Natural-Language-Processing/blob/main/chat_bot_(jason_data_set).ipynb\" target=\"_parent\"><img src=\"https://colab.research.google.com/assets/colab-badge.svg\" alt=\"Open In Colab\"/></a>"
      ]
    },
    {
      "cell_type": "code",
      "execution_count": null,
      "metadata": {
        "id": "sUPo8qss_U_F"
      },
      "outputs": [],
      "source": []
    },
    {
      "cell_type": "code",
      "source": [
        "from google.colab import drive\n",
        "drive.mount('/content/drive')"
      ],
      "metadata": {
        "colab": {
          "base_uri": "https://localhost:8080/"
        },
        "id": "-fhWCOCwSL6v",
        "outputId": "a2b2f931-c511-4ec8-a5e7-2fd493f709e8"
      },
      "execution_count": 1,
      "outputs": [
        {
          "output_type": "stream",
          "name": "stdout",
          "text": [
            "Mounted at /content/drive\n"
          ]
        }
      ]
    },
    {
      "cell_type": "code",
      "execution_count": 2,
      "metadata": {
        "colab": {
          "base_uri": "https://localhost:8080/"
        },
        "id": "Pt3wjBs5RzfT",
        "outputId": "d2c8ce81-6833-4d0a-de73-ec1a6a9de3f2"
      },
      "outputs": [
        {
          "output_type": "execute_result",
          "data": {
            "text/plain": [
              "RandomState(MT19937) at 0x7FB1B767D740"
            ]
          },
          "metadata": {},
          "execution_count": 2
        }
      ],
      "source": [
        "\n",
        "import matplotlib.pyplot as plt\n",
        "%matplotlib inline\n",
        "import pandas as pd\n",
        "import re\n",
        "from tqdm import tqdm\n",
        "import tensorflow as tf\n",
        "from tensorflow.keras.layers import Embedding, LSTM, Dense\n",
        "from wordcloud import WordCloud, STOPWORDS\n",
        "import pickle\n",
        "from sklearn.utils import shuffle\n",
        "from tensorflow.keras.models import Model\n",
        "import warnings\n",
        "warnings.filterwarnings(\"ignore\", category=FutureWarning)\n",
        "from prettytable import PrettyTable\n",
        "from tensorflow.keras.preprocessing.text import Tokenizer\n",
        "from tensorflow.keras.preprocessing.sequence import pad_sequences\n",
        "import numpy as np\n",
        "import matplotlib.pyplot as plt\n",
        "import json\n",
        "import os\n",
        "from nltk.translate.bleu_score import sentence_bleu\n",
        "import matplotlib.ticker as ticker\n",
        "from nltk.translate.bleu_score import corpus_bleu\n",
        "from nltk.translate import bleu_score, bleu\n",
        "np.random.RandomState(100)"
      ]
    },
    {
      "cell_type": "code",
      "source": [
        "import json\n",
        "import pandas as pd\n",
        "\n",
        "file_path = '/content/drive/MyDrive/NLP/train.json'\n",
        "\n",
        "ques = []\n",
        "ans = []\n",
        "\n",
        "with open(file_path, 'r') as f:\n",
        "    data = json.load(f)\n",
        "\n",
        "# Assuming the JSON structure is as provided\n",
        "all_agent1_messages = []\n",
        "all_agent2_messages = []\n",
        "\n",
        "for conversation_id, conversation_data in data.items():\n",
        "    agent1_messages = []\n",
        "    agent2_messages = []\n",
        "\n",
        "    for turn in conversation_data['content']:\n",
        "        if 'message' in turn:\n",
        "            if turn['agent'] == 'agent_1':\n",
        "                agent1_messages.append(turn['message'])\n",
        "            elif turn['agent'] == 'agent_2':\n",
        "                agent2_messages.append(turn['message'])\n",
        "\n",
        "    all_agent1_messages.extend(agent1_messages)\n",
        "    all_agent2_messages.extend(agent2_messages)\n",
        "\n",
        "# Pad the shorter list with empty strings\n",
        "max_length = max(len(all_agent1_messages), len(all_agent2_messages))\n",
        "all_agent1_messages += [''] * (max_length - len(all_agent1_messages))\n",
        "all_agent2_messages += [''] * (max_length - len(all_agent2_messages))\n",
        "\n",
        "# Create a DataFrame\n",
        "data = pd.DataFrame({'question': all_agent1_messages, 'answer': all_agent2_messages})\n",
        "\n",
        "# Now, df is a pandas DataFrame containing the questions and answers only.\n"
      ],
      "metadata": {
        "id": "QWTT4GgAkAMs"
      },
      "execution_count": 3,
      "outputs": []
    },
    {
      "cell_type": "code",
      "source": [
        "data.head()"
      ],
      "metadata": {
        "colab": {
          "base_uri": "https://localhost:8080/",
          "height": 206
        },
        "id": "PY70POUakHvQ",
        "outputId": "70cfe4e9-9eec-4b91-fe3f-54613fffbcfe"
      },
      "execution_count": 4,
      "outputs": [
        {
          "output_type": "execute_result",
          "data": {
            "text/plain": [
              "                                            question  \\\n",
              "0              Are you a fan of Google or Microsoft?   \n",
              "1  I'm not  a huge fan of Google, but I use it a ...   \n",
              "2  Yeah, their services are good. I'm just not a ...   \n",
              "3  Did you know Google had hundreds of live goats...   \n",
              "4  I like Google Chrome. Do you use it as well fo...   \n",
              "\n",
              "                                              answer  \n",
              "0  Both are excellent technology they are helpful...  \n",
              "1  Google provides online related services and pr...  \n",
              "2  Google is leading the alphabet subsidiary and ...  \n",
              "3  It is very interesting. Google provide \"Chrome...  \n",
              "4  Yes.Google is the biggest search engine and Go...  "
            ],
            "text/html": [
              "\n",
              "  <div id=\"df-39d33d16-cb1c-4ffc-8d40-b0ebf1b82389\" class=\"colab-df-container\">\n",
              "    <div>\n",
              "<style scoped>\n",
              "    .dataframe tbody tr th:only-of-type {\n",
              "        vertical-align: middle;\n",
              "    }\n",
              "\n",
              "    .dataframe tbody tr th {\n",
              "        vertical-align: top;\n",
              "    }\n",
              "\n",
              "    .dataframe thead th {\n",
              "        text-align: right;\n",
              "    }\n",
              "</style>\n",
              "<table border=\"1\" class=\"dataframe\">\n",
              "  <thead>\n",
              "    <tr style=\"text-align: right;\">\n",
              "      <th></th>\n",
              "      <th>question</th>\n",
              "      <th>answer</th>\n",
              "    </tr>\n",
              "  </thead>\n",
              "  <tbody>\n",
              "    <tr>\n",
              "      <th>0</th>\n",
              "      <td>Are you a fan of Google or Microsoft?</td>\n",
              "      <td>Both are excellent technology they are helpful...</td>\n",
              "    </tr>\n",
              "    <tr>\n",
              "      <th>1</th>\n",
              "      <td>I'm not  a huge fan of Google, but I use it a ...</td>\n",
              "      <td>Google provides online related services and pr...</td>\n",
              "    </tr>\n",
              "    <tr>\n",
              "      <th>2</th>\n",
              "      <td>Yeah, their services are good. I'm just not a ...</td>\n",
              "      <td>Google is leading the alphabet subsidiary and ...</td>\n",
              "    </tr>\n",
              "    <tr>\n",
              "      <th>3</th>\n",
              "      <td>Did you know Google had hundreds of live goats...</td>\n",
              "      <td>It is very interesting. Google provide \"Chrome...</td>\n",
              "    </tr>\n",
              "    <tr>\n",
              "      <th>4</th>\n",
              "      <td>I like Google Chrome. Do you use it as well fo...</td>\n",
              "      <td>Yes.Google is the biggest search engine and Go...</td>\n",
              "    </tr>\n",
              "  </tbody>\n",
              "</table>\n",
              "</div>\n",
              "    <div class=\"colab-df-buttons\">\n",
              "\n",
              "  <div class=\"colab-df-container\">\n",
              "    <button class=\"colab-df-convert\" onclick=\"convertToInteractive('df-39d33d16-cb1c-4ffc-8d40-b0ebf1b82389')\"\n",
              "            title=\"Convert this dataframe to an interactive table.\"\n",
              "            style=\"display:none;\">\n",
              "\n",
              "  <svg xmlns=\"http://www.w3.org/2000/svg\" height=\"24px\" viewBox=\"0 -960 960 960\">\n",
              "    <path d=\"M120-120v-720h720v720H120Zm60-500h600v-160H180v160Zm220 220h160v-160H400v160Zm0 220h160v-160H400v160ZM180-400h160v-160H180v160Zm440 0h160v-160H620v160ZM180-180h160v-160H180v160Zm440 0h160v-160H620v160Z\"/>\n",
              "  </svg>\n",
              "    </button>\n",
              "\n",
              "  <style>\n",
              "    .colab-df-container {\n",
              "      display:flex;\n",
              "      gap: 12px;\n",
              "    }\n",
              "\n",
              "    .colab-df-convert {\n",
              "      background-color: #E8F0FE;\n",
              "      border: none;\n",
              "      border-radius: 50%;\n",
              "      cursor: pointer;\n",
              "      display: none;\n",
              "      fill: #1967D2;\n",
              "      height: 32px;\n",
              "      padding: 0 0 0 0;\n",
              "      width: 32px;\n",
              "    }\n",
              "\n",
              "    .colab-df-convert:hover {\n",
              "      background-color: #E2EBFA;\n",
              "      box-shadow: 0px 1px 2px rgba(60, 64, 67, 0.3), 0px 1px 3px 1px rgba(60, 64, 67, 0.15);\n",
              "      fill: #174EA6;\n",
              "    }\n",
              "\n",
              "    .colab-df-buttons div {\n",
              "      margin-bottom: 4px;\n",
              "    }\n",
              "\n",
              "    [theme=dark] .colab-df-convert {\n",
              "      background-color: #3B4455;\n",
              "      fill: #D2E3FC;\n",
              "    }\n",
              "\n",
              "    [theme=dark] .colab-df-convert:hover {\n",
              "      background-color: #434B5C;\n",
              "      box-shadow: 0px 1px 3px 1px rgba(0, 0, 0, 0.15);\n",
              "      filter: drop-shadow(0px 1px 2px rgba(0, 0, 0, 0.3));\n",
              "      fill: #FFFFFF;\n",
              "    }\n",
              "  </style>\n",
              "\n",
              "    <script>\n",
              "      const buttonEl =\n",
              "        document.querySelector('#df-39d33d16-cb1c-4ffc-8d40-b0ebf1b82389 button.colab-df-convert');\n",
              "      buttonEl.style.display =\n",
              "        google.colab.kernel.accessAllowed ? 'block' : 'none';\n",
              "\n",
              "      async function convertToInteractive(key) {\n",
              "        const element = document.querySelector('#df-39d33d16-cb1c-4ffc-8d40-b0ebf1b82389');\n",
              "        const dataTable =\n",
              "          await google.colab.kernel.invokeFunction('convertToInteractive',\n",
              "                                                    [key], {});\n",
              "        if (!dataTable) return;\n",
              "\n",
              "        const docLinkHtml = 'Like what you see? Visit the ' +\n",
              "          '<a target=\"_blank\" href=https://colab.research.google.com/notebooks/data_table.ipynb>data table notebook</a>'\n",
              "          + ' to learn more about interactive tables.';\n",
              "        element.innerHTML = '';\n",
              "        dataTable['output_type'] = 'display_data';\n",
              "        await google.colab.output.renderOutput(dataTable, element);\n",
              "        const docLink = document.createElement('div');\n",
              "        docLink.innerHTML = docLinkHtml;\n",
              "        element.appendChild(docLink);\n",
              "      }\n",
              "    </script>\n",
              "  </div>\n",
              "\n",
              "\n",
              "<div id=\"df-409a482c-a068-41b1-8076-5bc3b0f90bce\">\n",
              "  <button class=\"colab-df-quickchart\" onclick=\"quickchart('df-409a482c-a068-41b1-8076-5bc3b0f90bce')\"\n",
              "            title=\"Suggest charts.\"\n",
              "            style=\"display:none;\">\n",
              "\n",
              "<svg xmlns=\"http://www.w3.org/2000/svg\" height=\"24px\"viewBox=\"0 0 24 24\"\n",
              "     width=\"24px\">\n",
              "    <g>\n",
              "        <path d=\"M19 3H5c-1.1 0-2 .9-2 2v14c0 1.1.9 2 2 2h14c1.1 0 2-.9 2-2V5c0-1.1-.9-2-2-2zM9 17H7v-7h2v7zm4 0h-2V7h2v10zm4 0h-2v-4h2v4z\"/>\n",
              "    </g>\n",
              "</svg>\n",
              "  </button>\n",
              "\n",
              "<style>\n",
              "  .colab-df-quickchart {\n",
              "      --bg-color: #E8F0FE;\n",
              "      --fill-color: #1967D2;\n",
              "      --hover-bg-color: #E2EBFA;\n",
              "      --hover-fill-color: #174EA6;\n",
              "      --disabled-fill-color: #AAA;\n",
              "      --disabled-bg-color: #DDD;\n",
              "  }\n",
              "\n",
              "  [theme=dark] .colab-df-quickchart {\n",
              "      --bg-color: #3B4455;\n",
              "      --fill-color: #D2E3FC;\n",
              "      --hover-bg-color: #434B5C;\n",
              "      --hover-fill-color: #FFFFFF;\n",
              "      --disabled-bg-color: #3B4455;\n",
              "      --disabled-fill-color: #666;\n",
              "  }\n",
              "\n",
              "  .colab-df-quickchart {\n",
              "    background-color: var(--bg-color);\n",
              "    border: none;\n",
              "    border-radius: 50%;\n",
              "    cursor: pointer;\n",
              "    display: none;\n",
              "    fill: var(--fill-color);\n",
              "    height: 32px;\n",
              "    padding: 0;\n",
              "    width: 32px;\n",
              "  }\n",
              "\n",
              "  .colab-df-quickchart:hover {\n",
              "    background-color: var(--hover-bg-color);\n",
              "    box-shadow: 0 1px 2px rgba(60, 64, 67, 0.3), 0 1px 3px 1px rgba(60, 64, 67, 0.15);\n",
              "    fill: var(--button-hover-fill-color);\n",
              "  }\n",
              "\n",
              "  .colab-df-quickchart-complete:disabled,\n",
              "  .colab-df-quickchart-complete:disabled:hover {\n",
              "    background-color: var(--disabled-bg-color);\n",
              "    fill: var(--disabled-fill-color);\n",
              "    box-shadow: none;\n",
              "  }\n",
              "\n",
              "  .colab-df-spinner {\n",
              "    border: 2px solid var(--fill-color);\n",
              "    border-color: transparent;\n",
              "    border-bottom-color: var(--fill-color);\n",
              "    animation:\n",
              "      spin 1s steps(1) infinite;\n",
              "  }\n",
              "\n",
              "  @keyframes spin {\n",
              "    0% {\n",
              "      border-color: transparent;\n",
              "      border-bottom-color: var(--fill-color);\n",
              "      border-left-color: var(--fill-color);\n",
              "    }\n",
              "    20% {\n",
              "      border-color: transparent;\n",
              "      border-left-color: var(--fill-color);\n",
              "      border-top-color: var(--fill-color);\n",
              "    }\n",
              "    30% {\n",
              "      border-color: transparent;\n",
              "      border-left-color: var(--fill-color);\n",
              "      border-top-color: var(--fill-color);\n",
              "      border-right-color: var(--fill-color);\n",
              "    }\n",
              "    40% {\n",
              "      border-color: transparent;\n",
              "      border-right-color: var(--fill-color);\n",
              "      border-top-color: var(--fill-color);\n",
              "    }\n",
              "    60% {\n",
              "      border-color: transparent;\n",
              "      border-right-color: var(--fill-color);\n",
              "    }\n",
              "    80% {\n",
              "      border-color: transparent;\n",
              "      border-right-color: var(--fill-color);\n",
              "      border-bottom-color: var(--fill-color);\n",
              "    }\n",
              "    90% {\n",
              "      border-color: transparent;\n",
              "      border-bottom-color: var(--fill-color);\n",
              "    }\n",
              "  }\n",
              "</style>\n",
              "\n",
              "  <script>\n",
              "    async function quickchart(key) {\n",
              "      const quickchartButtonEl =\n",
              "        document.querySelector('#' + key + ' button');\n",
              "      quickchartButtonEl.disabled = true;  // To prevent multiple clicks.\n",
              "      quickchartButtonEl.classList.add('colab-df-spinner');\n",
              "      try {\n",
              "        const charts = await google.colab.kernel.invokeFunction(\n",
              "            'suggestCharts', [key], {});\n",
              "      } catch (error) {\n",
              "        console.error('Error during call to suggestCharts:', error);\n",
              "      }\n",
              "      quickchartButtonEl.classList.remove('colab-df-spinner');\n",
              "      quickchartButtonEl.classList.add('colab-df-quickchart-complete');\n",
              "    }\n",
              "    (() => {\n",
              "      let quickchartButtonEl =\n",
              "        document.querySelector('#df-409a482c-a068-41b1-8076-5bc3b0f90bce button');\n",
              "      quickchartButtonEl.style.display =\n",
              "        google.colab.kernel.accessAllowed ? 'block' : 'none';\n",
              "    })();\n",
              "  </script>\n",
              "</div>\n",
              "    </div>\n",
              "  </div>\n"
            ]
          },
          "metadata": {},
          "execution_count": 4
        }
      ]
    },
    {
      "cell_type": "code",
      "source": [
        "print(data.columns)"
      ],
      "metadata": {
        "colab": {
          "base_uri": "https://localhost:8080/"
        },
        "id": "ff2UTgmes1Sq",
        "outputId": "878c2169-62c0-4be2-8424-a8bf2d551bce"
      },
      "execution_count": 5,
      "outputs": [
        {
          "output_type": "stream",
          "name": "stdout",
          "text": [
            "Index(['question', 'answer'], dtype='object')\n"
          ]
        }
      ]
    },
    {
      "cell_type": "code",
      "source": [
        "\n",
        "#data1=pd.read_csv('/content/drive/MyDrive/dialogues for chat bot/bigbasket_products.csv')\n",
        "\n",
        "#data1['answer'] = data1['brand']+'. '+data1['type']+'. '+data1['category']\n",
        "\n",
        "#data=pd.DataFrame(data=list(zip(data1['product'], data1['answer'])),columns=['question','answer'])"
      ],
      "metadata": {
        "id": "a4JYAgW1Snq6"
      },
      "execution_count": 6,
      "outputs": []
    },
    {
      "cell_type": "code",
      "source": [
        "#data"
      ],
      "metadata": {
        "id": "7dSkDQcvSwsn"
      },
      "execution_count": 7,
      "outputs": []
    },
    {
      "cell_type": "code",
      "source": [
        "\n",
        "#data2 = pd.read_csv('/content/drive/MyDrive/dialogues for chat bot/flipkart_com-ecommerce_sample.csv')\n",
        "\n",
        "#data2['answer'] = data2['brand']+'. '+data2['product_category_tree']\n",
        "\n",
        "#data3=pd.DataFrame(data=list(zip(data2['product_name'], data2['answer'])) ,columns=['question','answer'])\n"
      ],
      "metadata": {
        "id": "nXxjy8iNSyWf"
      },
      "execution_count": 8,
      "outputs": []
    },
    {
      "cell_type": "code",
      "source": [
        "#data3"
      ],
      "metadata": {
        "id": "mRlLis6kS4yj"
      },
      "execution_count": 9,
      "outputs": []
    },
    {
      "cell_type": "markdown",
      "source": [
        "## Concatenate the data"
      ],
      "metadata": {
        "id": "F7gg0Hk1S8gB"
      }
    },
    {
      "cell_type": "code",
      "source": [
        "#data = pd.concat([data01, data1a, data3])"
      ],
      "metadata": {
        "id": "BHU59GudS5rM"
      },
      "execution_count": 10,
      "outputs": []
    },
    {
      "cell_type": "code",
      "source": [
        "#data"
      ],
      "metadata": {
        "id": "79g4xYmiTAJ8"
      },
      "execution_count": 11,
      "outputs": []
    },
    {
      "cell_type": "markdown",
      "source": [
        "### Data Preprocessing and EDA\n",
        "After concatenation, we now need to preprocess the combined data, i.e., we have to replace various unformal words by their corresponding formal words. In the code below, for a given phrase or sentence, one will get the preprocessed sentence."
      ],
      "metadata": {
        "id": "2BddzH9-TD7Y"
      }
    },
    {
      "cell_type": "code",
      "source": [
        "def decontractions(phrase):\n",
        "\n",
        "    phrase = re.sub(r\"won\\'t\", \"will not\", phrase)\n",
        "    phrase = re.sub(r\"can\\'t\", \"can not\", phrase)\n",
        "    phrase = re.sub(r\"won\\’t\", \"will not\", phrase)\n",
        "    phrase = re.sub(r\"can\\’t\", \"can not\", phrase)\n",
        "\n",
        "    phrase = re.sub(r\"n\\'t\", \" not\", phrase)\n",
        "    phrase = re.sub(r\"\\'re\", \" are\", phrase)\n",
        "    phrase = re.sub(r\"\\'s\", \" is\", phrase)\n",
        "    phrase = re.sub(r\"\\'d\", \" would\", phrase)\n",
        "    phrase = re.sub(r\"\\'ll\", \" will\", phrase)\n",
        "    phrase = re.sub(r\"\\'t\", \" not\", phrase)\n",
        "    phrase = re.sub(r\"\\'ve\", \" have\", phrase)\n",
        "    phrase = re.sub(r\"\\'m\", \" am\", phrase)\n",
        "\n",
        "    phrase = re.sub(r\"n\\’t\", \" not\", phrase)\n",
        "    phrase = re.sub(r\"\\’re\", \" are\", phrase)\n",
        "    phrase = re.sub(r\"\\’s\", \" is\", phrase)\n",
        "    phrase = re.sub(r\"\\’d\", \" would\", phrase)\n",
        "    phrase = re.sub(r\"\\’ll\", \" will\", phrase)\n",
        "    phrase = re.sub(r\"\\’t\", \" not\", phrase)\n",
        "    phrase = re.sub(r\"\\’ve\", \" have\", phrase)\n",
        "    phrase = re.sub(r\"\\’m\", \" am\", phrase)\n",
        "\n",
        "    return phrase\n"
      ],
      "metadata": {
        "id": "zNjFdun-TAmp"
      },
      "execution_count": 12,
      "outputs": []
    },
    {
      "cell_type": "markdown",
      "source": [
        "Moreover, we also have to eliminate various characters i.e. @,#,$,%,^,&,*, which themselves have no meaning to describe the sentence, and may ‘confuse’ the machine, which may result in error in prediction. Also we eliminate those rows of data which has NULL values."
      ],
      "metadata": {
        "id": "meASPuDETNUk"
      }
    },
    {
      "cell_type": "code",
      "source": [
        "import re\n",
        "\n",
        "# Remove special characters from 'question' and 'answer' columns, keeping only alphanumeric characters and spaces\n",
        "data['question'] = data['question'].apply(lambda x: re.sub(r'[^A-Za-z0-9\\s]', '', x))\n",
        "data['answer'] = data['answer'].apply(lambda x: re.sub(r'[^A-Za-z0-9\\s]', '', x))\n",
        "\n",
        "# Remove rows with NULL values\n",
        "data.dropna(inplace=True)\n",
        "\n"
      ],
      "metadata": {
        "id": "pD4jGDdIn7Hb"
      },
      "execution_count": 13,
      "outputs": []
    },
    {
      "cell_type": "code",
      "source": [
        "data"
      ],
      "metadata": {
        "id": "2tNmzd6mTYnS",
        "colab": {
          "base_uri": "https://localhost:8080/",
          "height": 423
        },
        "outputId": "17115f71-325d-43c8-ba3b-13786f1ce548"
      },
      "execution_count": 14,
      "outputs": [
        {
          "output_type": "execute_result",
          "data": {
            "text/plain": [
              "                                                question  \\\n",
              "0                   Are you a fan of Google or Microsoft   \n",
              "1      Im not  a huge fan of Google but I use it a lo...   \n",
              "2      Yeah their services are good Im just not a fan...   \n",
              "3      Did you know Google had hundreds of live goats...   \n",
              "4      I like Google Chrome Do you use it as well for...   \n",
              "...                                                  ...   \n",
              "97199  I like adult animated series like Archer and S...   \n",
              "97200  I cant believe there were so many How many yea...   \n",
              "97201  Wow it does not seem like that long Since I me...   \n",
              "97202  I dont think I have either Thats an insane amo...   \n",
              "97203  It did Ringo Starr George Carlin and Alec Bald...   \n",
              "\n",
              "                                                  answer  \n",
              "0      Both are excellent technology they are helpful...  \n",
              "1      Google provides online related services and pr...  \n",
              "2      Google is leading the alphabet subsidiary and ...  \n",
              "3      It is very interesting Google provide Chrome O...  \n",
              "4      YesGoogle is the biggest search engine and Goo...  \n",
              "...                                                  ...  \n",
              "97199                                                     \n",
              "97200                                                     \n",
              "97201                                                     \n",
              "97202                                                     \n",
              "97203                                                     \n",
              "\n",
              "[97204 rows x 2 columns]"
            ],
            "text/html": [
              "\n",
              "  <div id=\"df-a423ec7c-c964-4340-8a07-1e7d0d87974f\" class=\"colab-df-container\">\n",
              "    <div>\n",
              "<style scoped>\n",
              "    .dataframe tbody tr th:only-of-type {\n",
              "        vertical-align: middle;\n",
              "    }\n",
              "\n",
              "    .dataframe tbody tr th {\n",
              "        vertical-align: top;\n",
              "    }\n",
              "\n",
              "    .dataframe thead th {\n",
              "        text-align: right;\n",
              "    }\n",
              "</style>\n",
              "<table border=\"1\" class=\"dataframe\">\n",
              "  <thead>\n",
              "    <tr style=\"text-align: right;\">\n",
              "      <th></th>\n",
              "      <th>question</th>\n",
              "      <th>answer</th>\n",
              "    </tr>\n",
              "  </thead>\n",
              "  <tbody>\n",
              "    <tr>\n",
              "      <th>0</th>\n",
              "      <td>Are you a fan of Google or Microsoft</td>\n",
              "      <td>Both are excellent technology they are helpful...</td>\n",
              "    </tr>\n",
              "    <tr>\n",
              "      <th>1</th>\n",
              "      <td>Im not  a huge fan of Google but I use it a lo...</td>\n",
              "      <td>Google provides online related services and pr...</td>\n",
              "    </tr>\n",
              "    <tr>\n",
              "      <th>2</th>\n",
              "      <td>Yeah their services are good Im just not a fan...</td>\n",
              "      <td>Google is leading the alphabet subsidiary and ...</td>\n",
              "    </tr>\n",
              "    <tr>\n",
              "      <th>3</th>\n",
              "      <td>Did you know Google had hundreds of live goats...</td>\n",
              "      <td>It is very interesting Google provide Chrome O...</td>\n",
              "    </tr>\n",
              "    <tr>\n",
              "      <th>4</th>\n",
              "      <td>I like Google Chrome Do you use it as well for...</td>\n",
              "      <td>YesGoogle is the biggest search engine and Goo...</td>\n",
              "    </tr>\n",
              "    <tr>\n",
              "      <th>...</th>\n",
              "      <td>...</td>\n",
              "      <td>...</td>\n",
              "    </tr>\n",
              "    <tr>\n",
              "      <th>97199</th>\n",
              "      <td>I like adult animated series like Archer and S...</td>\n",
              "      <td></td>\n",
              "    </tr>\n",
              "    <tr>\n",
              "      <th>97200</th>\n",
              "      <td>I cant believe there were so many How many yea...</td>\n",
              "      <td></td>\n",
              "    </tr>\n",
              "    <tr>\n",
              "      <th>97201</th>\n",
              "      <td>Wow it does not seem like that long Since I me...</td>\n",
              "      <td></td>\n",
              "    </tr>\n",
              "    <tr>\n",
              "      <th>97202</th>\n",
              "      <td>I dont think I have either Thats an insane amo...</td>\n",
              "      <td></td>\n",
              "    </tr>\n",
              "    <tr>\n",
              "      <th>97203</th>\n",
              "      <td>It did Ringo Starr George Carlin and Alec Bald...</td>\n",
              "      <td></td>\n",
              "    </tr>\n",
              "  </tbody>\n",
              "</table>\n",
              "<p>97204 rows × 2 columns</p>\n",
              "</div>\n",
              "    <div class=\"colab-df-buttons\">\n",
              "\n",
              "  <div class=\"colab-df-container\">\n",
              "    <button class=\"colab-df-convert\" onclick=\"convertToInteractive('df-a423ec7c-c964-4340-8a07-1e7d0d87974f')\"\n",
              "            title=\"Convert this dataframe to an interactive table.\"\n",
              "            style=\"display:none;\">\n",
              "\n",
              "  <svg xmlns=\"http://www.w3.org/2000/svg\" height=\"24px\" viewBox=\"0 -960 960 960\">\n",
              "    <path d=\"M120-120v-720h720v720H120Zm60-500h600v-160H180v160Zm220 220h160v-160H400v160Zm0 220h160v-160H400v160ZM180-400h160v-160H180v160Zm440 0h160v-160H620v160ZM180-180h160v-160H180v160Zm440 0h160v-160H620v160Z\"/>\n",
              "  </svg>\n",
              "    </button>\n",
              "\n",
              "  <style>\n",
              "    .colab-df-container {\n",
              "      display:flex;\n",
              "      gap: 12px;\n",
              "    }\n",
              "\n",
              "    .colab-df-convert {\n",
              "      background-color: #E8F0FE;\n",
              "      border: none;\n",
              "      border-radius: 50%;\n",
              "      cursor: pointer;\n",
              "      display: none;\n",
              "      fill: #1967D2;\n",
              "      height: 32px;\n",
              "      padding: 0 0 0 0;\n",
              "      width: 32px;\n",
              "    }\n",
              "\n",
              "    .colab-df-convert:hover {\n",
              "      background-color: #E2EBFA;\n",
              "      box-shadow: 0px 1px 2px rgba(60, 64, 67, 0.3), 0px 1px 3px 1px rgba(60, 64, 67, 0.15);\n",
              "      fill: #174EA6;\n",
              "    }\n",
              "\n",
              "    .colab-df-buttons div {\n",
              "      margin-bottom: 4px;\n",
              "    }\n",
              "\n",
              "    [theme=dark] .colab-df-convert {\n",
              "      background-color: #3B4455;\n",
              "      fill: #D2E3FC;\n",
              "    }\n",
              "\n",
              "    [theme=dark] .colab-df-convert:hover {\n",
              "      background-color: #434B5C;\n",
              "      box-shadow: 0px 1px 3px 1px rgba(0, 0, 0, 0.15);\n",
              "      filter: drop-shadow(0px 1px 2px rgba(0, 0, 0, 0.3));\n",
              "      fill: #FFFFFF;\n",
              "    }\n",
              "  </style>\n",
              "\n",
              "    <script>\n",
              "      const buttonEl =\n",
              "        document.querySelector('#df-a423ec7c-c964-4340-8a07-1e7d0d87974f button.colab-df-convert');\n",
              "      buttonEl.style.display =\n",
              "        google.colab.kernel.accessAllowed ? 'block' : 'none';\n",
              "\n",
              "      async function convertToInteractive(key) {\n",
              "        const element = document.querySelector('#df-a423ec7c-c964-4340-8a07-1e7d0d87974f');\n",
              "        const dataTable =\n",
              "          await google.colab.kernel.invokeFunction('convertToInteractive',\n",
              "                                                    [key], {});\n",
              "        if (!dataTable) return;\n",
              "\n",
              "        const docLinkHtml = 'Like what you see? Visit the ' +\n",
              "          '<a target=\"_blank\" href=https://colab.research.google.com/notebooks/data_table.ipynb>data table notebook</a>'\n",
              "          + ' to learn more about interactive tables.';\n",
              "        element.innerHTML = '';\n",
              "        dataTable['output_type'] = 'display_data';\n",
              "        await google.colab.output.renderOutput(dataTable, element);\n",
              "        const docLink = document.createElement('div');\n",
              "        docLink.innerHTML = docLinkHtml;\n",
              "        element.appendChild(docLink);\n",
              "      }\n",
              "    </script>\n",
              "  </div>\n",
              "\n",
              "\n",
              "<div id=\"df-13a69244-6d98-485d-b6f9-03e84f0f5dc5\">\n",
              "  <button class=\"colab-df-quickchart\" onclick=\"quickchart('df-13a69244-6d98-485d-b6f9-03e84f0f5dc5')\"\n",
              "            title=\"Suggest charts.\"\n",
              "            style=\"display:none;\">\n",
              "\n",
              "<svg xmlns=\"http://www.w3.org/2000/svg\" height=\"24px\"viewBox=\"0 0 24 24\"\n",
              "     width=\"24px\">\n",
              "    <g>\n",
              "        <path d=\"M19 3H5c-1.1 0-2 .9-2 2v14c0 1.1.9 2 2 2h14c1.1 0 2-.9 2-2V5c0-1.1-.9-2-2-2zM9 17H7v-7h2v7zm4 0h-2V7h2v10zm4 0h-2v-4h2v4z\"/>\n",
              "    </g>\n",
              "</svg>\n",
              "  </button>\n",
              "\n",
              "<style>\n",
              "  .colab-df-quickchart {\n",
              "      --bg-color: #E8F0FE;\n",
              "      --fill-color: #1967D2;\n",
              "      --hover-bg-color: #E2EBFA;\n",
              "      --hover-fill-color: #174EA6;\n",
              "      --disabled-fill-color: #AAA;\n",
              "      --disabled-bg-color: #DDD;\n",
              "  }\n",
              "\n",
              "  [theme=dark] .colab-df-quickchart {\n",
              "      --bg-color: #3B4455;\n",
              "      --fill-color: #D2E3FC;\n",
              "      --hover-bg-color: #434B5C;\n",
              "      --hover-fill-color: #FFFFFF;\n",
              "      --disabled-bg-color: #3B4455;\n",
              "      --disabled-fill-color: #666;\n",
              "  }\n",
              "\n",
              "  .colab-df-quickchart {\n",
              "    background-color: var(--bg-color);\n",
              "    border: none;\n",
              "    border-radius: 50%;\n",
              "    cursor: pointer;\n",
              "    display: none;\n",
              "    fill: var(--fill-color);\n",
              "    height: 32px;\n",
              "    padding: 0;\n",
              "    width: 32px;\n",
              "  }\n",
              "\n",
              "  .colab-df-quickchart:hover {\n",
              "    background-color: var(--hover-bg-color);\n",
              "    box-shadow: 0 1px 2px rgba(60, 64, 67, 0.3), 0 1px 3px 1px rgba(60, 64, 67, 0.15);\n",
              "    fill: var(--button-hover-fill-color);\n",
              "  }\n",
              "\n",
              "  .colab-df-quickchart-complete:disabled,\n",
              "  .colab-df-quickchart-complete:disabled:hover {\n",
              "    background-color: var(--disabled-bg-color);\n",
              "    fill: var(--disabled-fill-color);\n",
              "    box-shadow: none;\n",
              "  }\n",
              "\n",
              "  .colab-df-spinner {\n",
              "    border: 2px solid var(--fill-color);\n",
              "    border-color: transparent;\n",
              "    border-bottom-color: var(--fill-color);\n",
              "    animation:\n",
              "      spin 1s steps(1) infinite;\n",
              "  }\n",
              "\n",
              "  @keyframes spin {\n",
              "    0% {\n",
              "      border-color: transparent;\n",
              "      border-bottom-color: var(--fill-color);\n",
              "      border-left-color: var(--fill-color);\n",
              "    }\n",
              "    20% {\n",
              "      border-color: transparent;\n",
              "      border-left-color: var(--fill-color);\n",
              "      border-top-color: var(--fill-color);\n",
              "    }\n",
              "    30% {\n",
              "      border-color: transparent;\n",
              "      border-left-color: var(--fill-color);\n",
              "      border-top-color: var(--fill-color);\n",
              "      border-right-color: var(--fill-color);\n",
              "    }\n",
              "    40% {\n",
              "      border-color: transparent;\n",
              "      border-right-color: var(--fill-color);\n",
              "      border-top-color: var(--fill-color);\n",
              "    }\n",
              "    60% {\n",
              "      border-color: transparent;\n",
              "      border-right-color: var(--fill-color);\n",
              "    }\n",
              "    80% {\n",
              "      border-color: transparent;\n",
              "      border-right-color: var(--fill-color);\n",
              "      border-bottom-color: var(--fill-color);\n",
              "    }\n",
              "    90% {\n",
              "      border-color: transparent;\n",
              "      border-bottom-color: var(--fill-color);\n",
              "    }\n",
              "  }\n",
              "</style>\n",
              "\n",
              "  <script>\n",
              "    async function quickchart(key) {\n",
              "      const quickchartButtonEl =\n",
              "        document.querySelector('#' + key + ' button');\n",
              "      quickchartButtonEl.disabled = true;  // To prevent multiple clicks.\n",
              "      quickchartButtonEl.classList.add('colab-df-spinner');\n",
              "      try {\n",
              "        const charts = await google.colab.kernel.invokeFunction(\n",
              "            'suggestCharts', [key], {});\n",
              "      } catch (error) {\n",
              "        console.error('Error during call to suggestCharts:', error);\n",
              "      }\n",
              "      quickchartButtonEl.classList.remove('colab-df-spinner');\n",
              "      quickchartButtonEl.classList.add('colab-df-quickchart-complete');\n",
              "    }\n",
              "    (() => {\n",
              "      let quickchartButtonEl =\n",
              "        document.querySelector('#df-13a69244-6d98-485d-b6f9-03e84f0f5dc5 button');\n",
              "      quickchartButtonEl.style.display =\n",
              "        google.colab.kernel.accessAllowed ? 'block' : 'none';\n",
              "    })();\n",
              "  </script>\n",
              "</div>\n",
              "    </div>\n",
              "  </div>\n"
            ]
          },
          "metadata": {},
          "execution_count": 14
        }
      ]
    },
    {
      "cell_type": "markdown",
      "source": [
        "Since the combined data includes more than 50,000 rows of question and answers, let us now look at their lengths by using the code below:"
      ],
      "metadata": {
        "id": "oMAtMIjjTUzP"
      }
    },
    {
      "cell_type": "code",
      "source": [
        "print(data.columns)"
      ],
      "metadata": {
        "colab": {
          "base_uri": "https://localhost:8080/"
        },
        "id": "ZiiMn17Qs_lI",
        "outputId": "8183012a-b73b-4bfa-e6d2-6379d6dbe568"
      },
      "execution_count": 15,
      "outputs": [
        {
          "output_type": "stream",
          "name": "stdout",
          "text": [
            "Index(['question', 'answer'], dtype='object')\n"
          ]
        }
      ]
    },
    {
      "cell_type": "code",
      "source": [
        "import matplotlib.pyplot as plt\n",
        "\n",
        "# Histogram for question lengths\n",
        "question_lengths = data['question'].str.split().apply(len)\n",
        "plt.hist(question_lengths, bins=20)  # Adjust the number of bins as needed\n",
        "plt.xlabel('Length of questions')\n",
        "plt.ylabel('No. of questions')\n",
        "plt.title('Histogram of Question Lengths')\n",
        "plt.show()\n",
        "\n",
        "# Histogram for answer lengths\n",
        "answer_lengths = data['answer'].str.split().apply(len)\n",
        "plt.hist(answer_lengths, bins=20)  # Adjust the number of bins as needed\n",
        "plt.xlabel('Length of answers')\n",
        "plt.ylabel('No. of answers')\n",
        "plt.title('Histogram of Answer Lengths')\n",
        "plt.show()\n"
      ],
      "metadata": {
        "colab": {
          "base_uri": "https://localhost:8080/",
          "height": 927
        },
        "id": "sL9i83CjpLsG",
        "outputId": "76c16afb-e192-4f9f-d407-491b89b46ee1"
      },
      "execution_count": 17,
      "outputs": [
        {
          "output_type": "display_data",
          "data": {
            "text/plain": [
              "<Figure size 640x480 with 1 Axes>"
            ],
            "image/png": "[encoded data removed]"
          },
          "metadata": {}
        },
        {
          "output_type": "display_data",
          "data": {
            "text/plain": [
              "<Figure size 640x480 with 1 Axes>"
            ],
            "image/png": "[encoded data removed]"
          },
          "metadata": {}
        }
      ]
    },
    {
      "cell_type": "markdown",
      "source": [
        "From the above figures, it can be easily seen that the length of most of the questions are below 10, and the maximum length of sentence for questions and answers are around 30 and 20, respectively. Let us also look at words which are more frequent in the corpus of questions."
      ],
      "metadata": {
        "id": "2OjZpaS2TmQo"
      }
    },
    {
      "cell_type": "markdown",
      "source": [
        "As we have seen above that most questions and answers has below 20 words, let us now include only those sentences which have at most twenty words. In addition to that, we manually add two tokens namely, ‘<start>’ and ‘<end>’ so that the algorithm can detect when a sentence is getting starting or ended."
      ],
      "metadata": {
        "id": "c0aN9ILuTsoW"
      }
    },
    {
      "cell_type": "code",
      "source": [
        "print(data.columns)\n"
      ],
      "metadata": {
        "id": "8e96FhqgsVNa"
      },
      "execution_count": null,
      "outputs": []
    },
    {
      "cell_type": "code",
      "source": [
        "# Remove rows with empty or whitespace-only values in 'question ' and 'answer ' columns\n",
        "data = data[(data['question'].str.strip() != '') & (data['answer'].str.strip() != '')]\n",
        "\n",
        "# Calculate and Filter Question and Answer Lengths\n",
        "data['question_len'] = data['question'].str.split().apply(len)\n",
        "data = data[data['question_len'] <= 20]\n",
        "\n",
        "data['answer_len'] = data['answer'].str.split().apply(len)\n",
        "data = data[data['answer_len'] <= 20]\n",
        "\n",
        "# Prepare Answer Sequences\n",
        "data['answer_inp'] = '<START> ' + data['answer']\n",
        "data['answer_out'] = data['answer'] + ' <END>'\n",
        "\n",
        "# Drop Unnecessary Columns\n",
        "data = data.drop(['answer', 'question_len', 'answer_len'], axis=1)\n",
        "\n",
        "\n",
        "\n"
      ],
      "metadata": {
        "colab": {
          "base_uri": "https://localhost:8080/"
        },
        "id": "UdeOlCw8qTWm",
        "outputId": "c6003d21-6451-49e4-d8d4-b6a201f51e28"
      },
      "execution_count": 18,
      "outputs": [
        {
          "output_type": "stream",
          "name": "stderr",
          "text": [
            "<ipython-input-18-31295343e023>:5: SettingWithCopyWarning: \n",
            "A value is trying to be set on a copy of a slice from a DataFrame.\n",
            "Try using .loc[row_indexer,col_indexer] = value instead\n",
            "\n",
            "See the caveats in the documentation: https://pandas.pydata.org/pandas-docs/stable/user_guide/indexing.html#returning-a-view-versus-a-copy\n",
            "  data['question_len'] = data['question'].str.split().apply(len)\n",
            "<ipython-input-18-31295343e023>:12: SettingWithCopyWarning: \n",
            "A value is trying to be set on a copy of a slice from a DataFrame.\n",
            "Try using .loc[row_indexer,col_indexer] = value instead\n",
            "\n",
            "See the caveats in the documentation: https://pandas.pydata.org/pandas-docs/stable/user_guide/indexing.html#returning-a-view-versus-a-copy\n",
            "  data['answer_inp'] = '<START> ' + data['answer']\n",
            "<ipython-input-18-31295343e023>:13: SettingWithCopyWarning: \n",
            "A value is trying to be set on a copy of a slice from a DataFrame.\n",
            "Try using .loc[row_indexer,col_indexer] = value instead\n",
            "\n",
            "See the caveats in the documentation: https://pandas.pydata.org/pandas-docs/stable/user_guide/indexing.html#returning-a-view-versus-a-copy\n",
            "  data['answer_out'] = data['answer'] + ' <END>'\n"
          ]
        }
      ]
    },
    {
      "cell_type": "code",
      "source": [
        "data"
      ],
      "metadata": {
        "id": "9uaOBPLAcsRx"
      },
      "execution_count": null,
      "outputs": []
    },
    {
      "cell_type": "markdown",
      "source": [
        "### Splitting the data:\n",
        "Since we want some data points to validate our prediction accuracy, we randomly divide ‘questions’ and ‘answers’ in an 80:20 ratio, with 80 percent of the data used to train and the remainder can be used as the test data. We also get the length of each sentence in the code below."
      ],
      "metadata": {
        "id": "dvM0WJgeTy2h"
      }
    },
    {
      "cell_type": "code",
      "source": [
        "from sklearn.model_selection import train_test_split\n",
        "train, validation = train_test_split(data, test_size=0.2, random_state=24)\n",
        "\n",
        "train.iloc[0]['answer_inp']= str(train.iloc[0]['answer_inp'])+' <end>'\n",
        "train.iloc[0]['answer_out']= str(train.iloc[0]['answer_out'])+' <end>'\n",
        "\n",
        "ques_lengths = train['question'].str.split().apply(len)\n",
        "ans_lengths = train['answer_inp'].str.split().apply(len)"
      ],
      "metadata": {
        "id": "lxIFjlBZTvln"
      },
      "execution_count": 19,
      "outputs": []
    },
    {
      "cell_type": "markdown",
      "source": [
        "After creating the dataset with ‘questions’, ‘answer_inp’ and ‘answer_out’, we now use the Tokenizer library to tokenize each word in a given sentence and fit it on the ‘question’ and ‘answer_inp’ corpus. In the argument of the same the filter command exclude all the given characters. The Tokenizer library also enables us to count the words in the total dataset."
      ],
      "metadata": {
        "id": "Q6xLkx8fT71i"
      }
    },
    {
      "cell_type": "code",
      "source": [
        "tknizer_ques = Tokenizer()\n",
        "tknizer_ques.fit_on_texts(train['question'].values)\n",
        "tknizer_ans = Tokenizer(filters='!\"#$%&()*+,-./:;=?@[\\\\]^_`{|}~\\t\\n')\n",
        "tknizer_ans.fit_on_texts(train['answer_inp'].values)\n",
        "\n",
        "vocab_size_ans=len(tknizer_ans.word_index.keys())\n",
        "vocab_size_ques=len(tknizer_ques.word_index.keys())"
      ],
      "metadata": {
        "id": "FW9IQBmpT25w"
      },
      "execution_count": 20,
      "outputs": []
    },
    {
      "cell_type": "markdown",
      "source": [
        "Just tokenize a word does not give fruitful results as it does not incorporate the semantic meaning. Therefore, here we use the ‘Glove Vectors’ with which we can represent each and every word of our vocabulary by a hundred dimensional vector. So all the hundred dimensional words in our vocabulary can now be stored in the ‘embedding_matrix’."
      ],
      "metadata": {
        "id": "9IhU4w7BUBlh"
      }
    },
    {
      "cell_type": "code",
      "source": [
        "embeddings_index = dict()\n",
        "f = open('/content/drive/MyDrive/dialogues for chat bot/glove.6B.100d.txt')\n",
        "for line in f:\n",
        "    values = line.split()\n",
        "    word = values[0]\n",
        "    coefs = np.asarray(values[1:], dtype='float32')\n",
        "    embeddings_index[word] = coefs\n",
        "f.close()\n",
        "\n",
        "embedding_matrix = np.zeros((vocab_size_ans+1, 100))\n",
        "for word, i in tknizer_ans.word_index.items():\n",
        "    embedding_vector = embeddings_index.get(word)\n",
        "    if embedding_vector is not None:\n",
        "        embedding_matrix[i] = embedding_vector"
      ],
      "metadata": {
        "id": "x9TeSxLhT-kG"
      },
      "execution_count": 21,
      "outputs": []
    },
    {
      "cell_type": "markdown",
      "source": [
        "## Data pipeline:\n",
        "In this section, we will implement the path to load the train and test data into batches which can be used to train and evaluate the model. In this regard, first we convert a sentence into sequence of tokens and then put padding on it. The padding is necessary as it gives fixed length of inputs to get trained. If a sentence is shorter then it will be padded by zero tokens, and if it is large then it will only consider up-to twenty tokens which is the maximum length we have decided to take. In our inputs, we take ‘question’ and ‘answer_inp’ as our inputs to the encoder and decoder, respectively, and the predicted sentence will be matched with the ‘answer_out’ of our data."
      ],
      "metadata": {
        "id": "YshHjd_JUYtd"
      }
    },
    {
      "cell_type": "code",
      "source": [
        "class Dataset:\n",
        "    def __init__(self, data, tknizer_ques, tknizer_ans, max_len):\n",
        "        self.encoder_inps = data['question'].values\n",
        "        self.decoder_inps = data['answer_inp'].values\n",
        "        self.decoder_outs = data['answer_out'].values\n",
        "        self.tknizer_ans = tknizer_ans\n",
        "        self.tknizer_ques = tknizer_ques\n",
        "        self.max_len = max_len\n",
        "\n",
        "    def __getitem__(self, i):\n",
        "\n",
        "        self.encoder_seq = self.tknizer_ques.texts_to_sequences([self.encoder_inps[i]]) # need to pass list of values\n",
        "        self.decoder_inp_seq = self.tknizer_ans.texts_to_sequences([self.decoder_inps[i]])\n",
        "        self.decoder_out_seq = self.tknizer_ans.texts_to_sequences([self.decoder_outs[i]])\n",
        "        self.encoder_seq = pad_sequences(self.encoder_seq, maxlen=self.max_len, dtype='int32', padding='post')\n",
        "        # Similarly for decoders\n",
        "        self.decoder_inp_seq = pad_sequences(self.decoder_inp_seq, maxlen=self.max_len, dtype='int32', padding='post')\n",
        "        self.decoder_out_seq = pad_sequences(self.decoder_out_seq, maxlen=self.max_len, dtype='int32', padding='post')\n",
        "        # return the final length of encoded seq., and two decoder seq.\n",
        "        return self.encoder_seq, self.decoder_inp_seq, self.decoder_out_seq\n",
        "\n",
        "    def __len__(self): # your model.fit_gen requires this function\n",
        "        return len(self.encoder_inps)  # get Length of the encoder inputs\n",
        "\n",
        "\n",
        "class Dataloder(tf.keras.utils.Sequence):     # This class supply the data points to the model in batches\n",
        "    def __init__(self, dataset, batch_size=1):\n",
        "        self.dataset = dataset\n",
        "        self.batch_size = batch_size\n",
        "        self.indexes = np.arange(len(self.dataset.encoder_inps))\n",
        "\n",
        "\n",
        "    def __getitem__(self, i):\n",
        "        start = i * self.batch_size\n",
        "        stop = (i + 1) * self.batch_size\n",
        "        data = []\n",
        "        for j in range(start, stop):\n",
        "            data.append(self.dataset[j])\n",
        "\n",
        "        batch = [np.squeeze(np.stack(samples, axis=1), axis=0) for samples in zip(*data)]\n",
        "        return tuple([[batch[0],batch[1]],batch[2]])\n",
        "\n",
        "    def __len__(self):  # your model.fit_gen requires this function\n",
        "        return len(self.indexes) // self.batch_size\n",
        "\n",
        "    def on_epoch_end(self):\n",
        "        self.indexes = np.random.permutation(self.indexes)"
      ],
      "metadata": {
        "id": "1oLa5ETsUEn7"
      },
      "execution_count": 22,
      "outputs": []
    },
    {
      "cell_type": "code",
      "source": [
        "max_length =20\n",
        "train_dataset = Dataset(train, tknizer_ques, tknizer_ans, max_len=max_length)\n",
        "test_dataset  = Dataset(validation, tknizer_ques, tknizer_ans, 20)\n",
        "\n",
        "train_dataloader = Dataloder(train_dataset, batch_size=128)\n",
        "test_dataloader = Dataloder(test_dataset, batch_size=128)"
      ],
      "metadata": {
        "id": "RFA6ql7iUqWU"
      },
      "execution_count": 23,
      "outputs": []
    },
    {
      "cell_type": "markdown",
      "source": [
        "Let us now look at how our Encoder model is built up. Here first we embed our sentences and mask them with zero. Then our Long-Short term memory\n",
        "(LSTM) layer takes this as an input and yields one output and two states namely, hidden and cell state."
      ],
      "metadata": {
        "id": "D5EL2GmLUw3o"
      }
    },
    {
      "cell_type": "code",
      "source": [
        "class Encoder(tf.keras.Model):\n",
        "    '''\n",
        "    Encoder model -- That takes a input sequence and returns encoder-outputs,encoder_final_state_h,encoder_final_state_c\n",
        "    '''\n",
        "\n",
        "    def __init__(self,inp_vocab_size,embedding_size,lstm_size,input_length):\n",
        "        super().__init__()\n",
        "        self.vocab_size = inp_vocab_size\n",
        "        self.embedding_dim = embedding_size\n",
        "        self.input_length = input_length\n",
        "        self.lstm_size = lstm_size\n",
        "        self.lstm_output = 0\n",
        "        self.lstm_state_h=0\n",
        "        self.lstm_state_c=0\n",
        "\n",
        "    def build(self, input_shape):\n",
        "        self.embedding = Embedding(input_dim=self.vocab_size, output_dim=self.embedding_dim,\n",
        "                                   input_length=self.input_length,mask_zero=True, name=\"embedding_layer_encoder\",     )\n",
        "        self.lstm = LSTM(self.lstm_size, return_state=True, return_sequences=True, name=\"Encoder_LSTM\")\n",
        "\n",
        "\n",
        "    def call(self,input_sequence, training=True):\n",
        "        '''\n",
        "          This function takes a sequence input and the initial states of the encoder.\n",
        "          Pass the input_sequence input to the Embedding layer, Pass the embedding layer ouput to encoder_lstm\n",
        "          returns -- encoder_output, last time step's hidden and cell state\n",
        "        '''\n",
        "        input_embedd                           = self.embedding(input_sequence)\n",
        "        #states=self.lstm_state_h,self.lstm_state_c\n",
        "        self.lstm_output, self.lstm_state_h,self.lstm_state_c = self.lstm(input_embedd)\n",
        "        return self.lstm_output, self.lstm_state_h,self.lstm_state_c\n",
        "\n",
        "\n",
        "    def initialize_states(self,batch_size):\n",
        "   #   '''\n",
        "   #   Given a batch size it will return intial hidden state and intial cell state.\n",
        "   #   If batch size is 32- Hidden state is zeros of size [32,lstm_units], cell state zeros is of size [32,lstm_units]\n",
        "   #   '''\n",
        "        #self.batch_size=batch_size\n",
        "        hidden_state=np.zeros((batch_size,self.lstm_size), dtype=float, order='C')\n",
        "        cell_state=np.zeros((batch_size, self.lstm_size), dtype=float, order='C')\n",
        "\n",
        "        return hidden_state, cell_state"
      ],
      "metadata": {
        "id": "C94iPVEHUwQI"
      },
      "execution_count": 24,
      "outputs": []
    },
    {
      "cell_type": "markdown",
      "source": [
        "Similarly, Decoder part gets input from the embedded ‘answer_inp’. It also uses the hidden and cell states of Encoder model to the LSTM layer. It finally results an updated state of hidden and cell state and LSTM output."
      ],
      "metadata": {
        "id": "3taF1gZBU5r8"
      }
    },
    {
      "cell_type": "code",
      "source": [
        "class Decoder(tf.keras.Model):\n",
        "    '''\n",
        "    Encoder model -- That takes a input sequence and returns output sequence\n",
        "    '''\n",
        "\n",
        "    def __init__(self,out_vocab_size,embedding_size,lstm_size,input_length):\n",
        "        super().__init__()\n",
        "        self.vocab_size = out_vocab_size\n",
        "        self.embedding_size = embedding_size\n",
        "        self.lstm_size = lstm_size\n",
        "        self.input_length = input_length\n",
        "\n",
        "        self.embedding = Embedding(input_dim=self.vocab_size, output_dim=self.embedding_size,\n",
        "                                   input_length=self.input_length,mask_zero=True,\n",
        "                                   name=\"embedding_layer_decoder\", trainable=False)\n",
        "        self.lstm = LSTM(self.lstm_size, return_sequences=True, return_state=True, name=\"Encoder_LSTM\")\n",
        "\n",
        "\n",
        "    def call(self,input_sequence,states):\n",
        "        '''\n",
        "          This function takes a sequence input and the initial states of the encoder.\n",
        "          Pass the input_sequence input to the Embedding layer, Pass the embedding layer ouput to decoder_lstm\n",
        "\n",
        "          returns -- decoder_output,decoder_final_state_h,decoder_final_state_c\n",
        "        '''\n",
        "        state_h = states[0]\n",
        "        state_c = states[1]\n",
        "        embedd = self.embedding(input_sequence)\n",
        "        lstm_output,final_state_h,final_state_c = self.lstm(embedd, initial_state=[state_h, state_c])\n",
        "\n",
        "        return lstm_output, final_state_h, final_state_c"
      ],
      "metadata": {
        "id": "junxChrVU6Vr"
      },
      "execution_count": 25,
      "outputs": []
    },
    {
      "cell_type": "markdown",
      "source": [
        "To combine the Encoder and Decoder part, we use the code given below. In this code we make the input dimensions of word embeddings equal to 100 (as we are using the 100 dimensional glove vectors). Also for both Encoder and Decoder LSTMs, we use 512 size LSTM layer. In the code below, we also specify that the ‘question’ or ‘data[0]’ goes input to the encoder, which results three outputs: ‘encoder_output’, ‘encoder_h’, and ‘encoder_c’. The ‘encoder_h’ and ‘encoder_c’ will act as an input state of the Decoder, and the ‘answer_inp’ or ‘data[1]’ will act as an input to give the final prediction."
      ],
      "metadata": {
        "id": "5pIyaTKuVAVX"
      }
    },
    {
      "cell_type": "code",
      "source": [
        "\n",
        "class Encoder_decoder(tf.keras.Model):\n",
        "\n",
        "    def __init__(self,encoder_inputs_length,decoder_inputs_length, output_vocab_size):\n",
        "        super().__init__()\n",
        "        #Create encoder object\n",
        "        self.encoder = Encoder(inp_vocab_size=vocab_size_ques+1,embedding_size =100,\n",
        "                               lstm_size =512,input_length=encoder_inputs_length)\n",
        "        #Create decoder object\n",
        "        self.decoder = Decoder(vocab_size_ans+1,embedding_size=100,\n",
        "                               lstm_size =512,input_length = decoder_inputs_length)\n",
        "        #Intialize Dense layer(out_vocab_size) with activation='softmax'\n",
        "        self.Dense = Dense(output_vocab_size, activation='softmax')\n",
        "\n",
        "    def call(self, data):\n",
        "\n",
        "        input, output = data[0], data[1]\n",
        "        encoder_output, encoder_h, encoder_c = self.encoder(input)\n",
        "        decode,_,_ = self.decoder(output, [encoder_h, encoder_c])\n",
        "        decoder_ouputs = self.Dense(decode)\n",
        "\n",
        "        return decoder_ouputs"
      ],
      "metadata": {
        "id": "0w91EE8tVA89"
      },
      "execution_count": 26,
      "outputs": []
    },
    {
      "cell_type": "markdown",
      "source": [
        "In the final stage of our model, we specify the train and validation data steps, and as we have decided to use questions and answer length up to twenty only, we give the same to our encoder and decoder input lengths. We use ‘Adam’ as our optimizer from TensorFlow library, and use categorical sparse entropy as our loss function."
      ],
      "metadata": {
        "id": "2VH9rTSeVHxW"
      }
    },
    {
      "cell_type": "code",
      "source": [
        "train_steps=train.shape[0]//128\n",
        "valid_steps=validation.shape[0]//128\n",
        "\n",
        "model  = Encoder_decoder(encoder_inputs_length=20,decoder_inputs_length=20,output_vocab_size=vocab_size_ans)\n",
        "optimizer = tf.keras.optimizers.Adam()\n",
        "model.compile(optimizer=optimizer,loss='sparse_categorical_crossentropy')"
      ],
      "metadata": {
        "id": "ynxwG6aZVIWP"
      },
      "execution_count": 27,
      "outputs": []
    },
    {
      "cell_type": "code",
      "source": [
        "\n",
        "model.fit(train_dataloader, steps_per_epoch=train_steps, epochs=100,\n",
        "          validation_data=test_dataloader, validation_steps=valid_steps)"
      ],
      "metadata": {
        "id": "H9hpdGOMVN0X",
        "colab": {
          "base_uri": "https://localhost:8080/"
        },
        "outputId": "31bfd63d-ee5e-472d-878c-68a31b7b9541"
      },
      "execution_count": 28,
      "outputs": [
        {
          "output_type": "stream",
          "name": "stdout",
          "text": [
            "Epoch 1/100\n",
            "203/203 [==============================] - 48s 187ms/step - loss: 6.4598 - val_loss: 6.0165\n",
            "Epoch 2/100\n",
            "203/203 [==============================] - 14s 68ms/step - loss: 6.0949 - val_loss: 5.9616\n",
            "Epoch 3/100\n",
            "203/203 [==============================] - 14s 68ms/step - loss: 5.9948 - val_loss: 5.8349\n",
            "Epoch 4/100\n",
            "203/203 [==============================] - 14s 67ms/step - loss: 5.8575 - val_loss: 5.7241\n",
            "Epoch 5/100\n",
            "203/203 [==============================] - 14s 68ms/step - loss: 5.7377 - val_loss: 5.6352\n",
            "Epoch 6/100\n",
            "203/203 [==============================] - 14s 69ms/step - loss: 5.6389 - val_loss: 5.5739\n",
            "Epoch 7/100\n",
            "203/203 [==============================] - 14s 70ms/step - loss: 5.5469 - val_loss: 5.5117\n",
            "Epoch 8/100\n",
            "203/203 [==============================] - 14s 69ms/step - loss: 5.4632 - val_loss: 5.4624\n",
            "Epoch 9/100\n",
            "203/203 [==============================] - 14s 69ms/step - loss: 5.3835 - val_loss: 5.4162\n",
            "Epoch 10/100\n",
            "203/203 [==============================] - 14s 69ms/step - loss: 5.3059 - val_loss: 5.3881\n",
            "Epoch 11/100\n",
            "203/203 [==============================] - 14s 70ms/step - loss: 5.2321 - val_loss: 5.3532\n",
            "Epoch 12/100\n",
            "203/203 [==============================] - 14s 70ms/step - loss: 5.1605 - val_loss: 5.3314\n",
            "Epoch 13/100\n",
            "203/203 [==============================] - 14s 70ms/step - loss: 5.0911 - val_loss: 5.3023\n",
            "Epoch 14/100\n",
            "203/203 [==============================] - 14s 69ms/step - loss: 5.0244 - val_loss: 5.2854\n",
            "Epoch 15/100\n",
            "203/203 [==============================] - 14s 70ms/step - loss: 4.9564 - val_loss: 5.2665\n",
            "Epoch 16/100\n",
            "203/203 [==============================] - 14s 70ms/step - loss: 4.8909 - val_loss: 5.2523\n",
            "Epoch 17/100\n",
            "203/203 [==============================] - 14s 71ms/step - loss: 4.8255 - val_loss: 5.2459\n",
            "Epoch 18/100\n",
            "203/203 [==============================] - 14s 70ms/step - loss: 4.7596 - val_loss: 5.2363\n",
            "Epoch 19/100\n",
            "203/203 [==============================] - 14s 69ms/step - loss: 4.6954 - val_loss: 5.2294\n",
            "Epoch 20/100\n",
            "203/203 [==============================] - 14s 70ms/step - loss: 4.6304 - val_loss: 5.2331\n",
            "Epoch 21/100\n",
            "203/203 [==============================] - 14s 71ms/step - loss: 4.5680 - val_loss: 5.2301\n",
            "Epoch 22/100\n",
            "203/203 [==============================] - 14s 69ms/step - loss: 4.5048 - val_loss: 5.2275\n",
            "Epoch 23/100\n",
            "203/203 [==============================] - 14s 69ms/step - loss: 4.4424 - val_loss: 5.2383\n",
            "Epoch 24/100\n",
            "203/203 [==============================] - 14s 70ms/step - loss: 4.3810 - val_loss: 5.2375\n",
            "Epoch 25/100\n",
            "203/203 [==============================] - 14s 70ms/step - loss: 4.3207 - val_loss: 5.2451\n",
            "Epoch 26/100\n",
            "203/203 [==============================] - 14s 70ms/step - loss: 4.2635 - val_loss: 5.2514\n",
            "Epoch 27/100\n",
            "203/203 [==============================] - 14s 69ms/step - loss: 4.2080 - val_loss: 5.2537\n",
            "Epoch 28/100\n",
            "203/203 [==============================] - 14s 69ms/step - loss: 4.1530 - val_loss: 5.2586\n",
            "Epoch 29/100\n",
            "203/203 [==============================] - 14s 70ms/step - loss: 4.1010 - val_loss: 5.2719\n",
            "Epoch 30/100\n",
            "203/203 [==============================] - 14s 70ms/step - loss: 4.0497 - val_loss: 5.2842\n",
            "Epoch 31/100\n",
            "203/203 [==============================] - 14s 70ms/step - loss: 4.0003 - val_loss: 5.3032\n",
            "Epoch 32/100\n",
            "203/203 [==============================] - 14s 70ms/step - loss: 3.9517 - val_loss: 5.3069\n",
            "Epoch 33/100\n",
            "203/203 [==============================] - 14s 70ms/step - loss: 3.9054 - val_loss: 5.3178\n",
            "Epoch 34/100\n",
            "203/203 [==============================] - 14s 70ms/step - loss: 3.8611 - val_loss: 5.3267\n",
            "Epoch 35/100\n",
            "203/203 [==============================] - 14s 70ms/step - loss: 3.8184 - val_loss: 5.3501\n",
            "Epoch 36/100\n",
            "203/203 [==============================] - 14s 70ms/step - loss: 3.7743 - val_loss: 5.3609\n",
            "Epoch 37/100\n",
            "203/203 [==============================] - 14s 70ms/step - loss: 3.7326 - val_loss: 5.3733\n",
            "Epoch 38/100\n",
            "203/203 [==============================] - 14s 70ms/step - loss: 3.6920 - val_loss: 5.3949\n",
            "Epoch 39/100\n",
            "203/203 [==============================] - 14s 69ms/step - loss: 3.6534 - val_loss: 5.4218\n",
            "Epoch 40/100\n",
            "203/203 [==============================] - 14s 70ms/step - loss: 3.6118 - val_loss: 5.4302\n",
            "Epoch 41/100\n",
            "203/203 [==============================] - 14s 69ms/step - loss: 3.5748 - val_loss: 5.4444\n",
            "Epoch 42/100\n",
            "203/203 [==============================] - 14s 70ms/step - loss: 3.5351 - val_loss: 5.4579\n",
            "Epoch 43/100\n",
            "203/203 [==============================] - 14s 70ms/step - loss: 3.4992 - val_loss: 5.4870\n",
            "Epoch 44/100\n",
            "203/203 [==============================] - 14s 69ms/step - loss: 3.4630 - val_loss: 5.5004\n",
            "Epoch 45/100\n",
            "203/203 [==============================] - 14s 70ms/step - loss: 3.4269 - val_loss: 5.5159\n",
            "Epoch 46/100\n",
            "203/203 [==============================] - 14s 70ms/step - loss: 3.3906 - val_loss: 5.5422\n",
            "Epoch 47/100\n",
            "203/203 [==============================] - 14s 71ms/step - loss: 3.3571 - val_loss: 5.5660\n",
            "Epoch 48/100\n",
            "203/203 [==============================] - 14s 70ms/step - loss: 3.3218 - val_loss: 5.5814\n",
            "Epoch 49/100\n",
            "203/203 [==============================] - 14s 70ms/step - loss: 3.2868 - val_loss: 5.6091\n",
            "Epoch 50/100\n",
            "203/203 [==============================] - 14s 69ms/step - loss: 3.2533 - val_loss: 5.6235\n",
            "Epoch 51/100\n",
            "203/203 [==============================] - 14s 69ms/step - loss: 3.2195 - val_loss: 5.6454\n",
            "Epoch 52/100\n",
            "203/203 [==============================] - 14s 69ms/step - loss: 3.1882 - val_loss: 5.6729\n",
            "Epoch 53/100\n",
            "203/203 [==============================] - 14s 70ms/step - loss: 3.1564 - val_loss: 5.6968\n",
            "Epoch 54/100\n",
            "203/203 [==============================] - 14s 69ms/step - loss: 3.1266 - val_loss: 5.7179\n",
            "Epoch 55/100\n",
            "203/203 [==============================] - 14s 70ms/step - loss: 3.0930 - val_loss: 5.7449\n",
            "Epoch 56/100\n",
            "203/203 [==============================] - 14s 70ms/step - loss: 3.0637 - val_loss: 5.7528\n",
            "Epoch 57/100\n",
            "203/203 [==============================] - 14s 69ms/step - loss: 3.0358 - val_loss: 5.7881\n",
            "Epoch 58/100\n",
            "203/203 [==============================] - 14s 70ms/step - loss: 3.0030 - val_loss: 5.8267\n",
            "Epoch 59/100\n",
            "203/203 [==============================] - 14s 70ms/step - loss: 2.9765 - val_loss: 5.8310\n",
            "Epoch 60/100\n",
            "203/203 [==============================] - 14s 69ms/step - loss: 2.9448 - val_loss: 5.8645\n",
            "Epoch 61/100\n",
            "203/203 [==============================] - 14s 69ms/step - loss: 2.9136 - val_loss: 5.8931\n",
            "Epoch 62/100\n",
            "203/203 [==============================] - 14s 70ms/step - loss: 2.8830 - val_loss: 5.9110\n",
            "Epoch 63/100\n",
            "203/203 [==============================] - 14s 69ms/step - loss: 2.8565 - val_loss: 5.9343\n",
            "Epoch 64/100\n",
            "203/203 [==============================] - 14s 70ms/step - loss: 2.8268 - val_loss: 5.9806\n",
            "Epoch 65/100\n",
            "203/203 [==============================] - 14s 71ms/step - loss: 2.8000 - val_loss: 6.0007\n",
            "Epoch 66/100\n",
            "203/203 [==============================] - 14s 71ms/step - loss: 2.7692 - val_loss: 6.0223\n",
            "Epoch 67/100\n",
            "203/203 [==============================] - 14s 70ms/step - loss: 2.7440 - val_loss: 6.0620\n",
            "Epoch 68/100\n",
            "203/203 [==============================] - 14s 69ms/step - loss: 2.7183 - val_loss: 6.0768\n",
            "Epoch 69/100\n",
            "203/203 [==============================] - 16s 77ms/step - loss: 2.6905 - val_loss: 6.1144\n",
            "Epoch 70/100\n",
            "203/203 [==============================] - 14s 70ms/step - loss: 2.6634 - val_loss: 6.1201\n",
            "Epoch 71/100\n",
            "203/203 [==============================] - 14s 69ms/step - loss: 2.6368 - val_loss: 6.1617\n",
            "Epoch 72/100\n",
            "203/203 [==============================] - 14s 69ms/step - loss: 2.6083 - val_loss: 6.1923\n",
            "Epoch 73/100\n",
            "203/203 [==============================] - 14s 69ms/step - loss: 2.5823 - val_loss: 6.2238\n",
            "Epoch 74/100\n",
            "203/203 [==============================] - 14s 69ms/step - loss: 2.5568 - val_loss: 6.2379\n",
            "Epoch 75/100\n",
            "203/203 [==============================] - 14s 70ms/step - loss: 2.5328 - val_loss: 6.2694\n",
            "Epoch 76/100\n",
            "203/203 [==============================] - 14s 70ms/step - loss: 2.5080 - val_loss: 6.2916\n",
            "Epoch 77/100\n",
            "203/203 [==============================] - 14s 70ms/step - loss: 2.4816 - val_loss: 6.3336\n",
            "Epoch 78/100\n",
            "203/203 [==============================] - 14s 68ms/step - loss: 2.4566 - val_loss: 6.3713\n",
            "Epoch 79/100\n",
            "203/203 [==============================] - 14s 69ms/step - loss: 2.4329 - val_loss: 6.3915\n",
            "Epoch 80/100\n",
            "203/203 [==============================] - 14s 69ms/step - loss: 2.4084 - val_loss: 6.4205\n",
            "Epoch 81/100\n",
            "203/203 [==============================] - 14s 70ms/step - loss: 2.3873 - val_loss: 6.4256\n",
            "Epoch 82/100\n",
            "203/203 [==============================] - 14s 70ms/step - loss: 2.3605 - val_loss: 6.4940\n",
            "Epoch 83/100\n",
            "203/203 [==============================] - 14s 70ms/step - loss: 2.3342 - val_loss: 6.5078\n",
            "Epoch 84/100\n",
            "203/203 [==============================] - 14s 69ms/step - loss: 2.3099 - val_loss: 6.5282\n",
            "Epoch 85/100\n",
            "203/203 [==============================] - 14s 69ms/step - loss: 2.2839 - val_loss: 6.5509\n",
            "Epoch 86/100\n",
            "203/203 [==============================] - 14s 70ms/step - loss: 2.2622 - val_loss: 6.6023\n",
            "Epoch 87/100\n",
            "203/203 [==============================] - 14s 70ms/step - loss: 2.2422 - val_loss: 6.6188\n",
            "Epoch 88/100\n",
            "203/203 [==============================] - 14s 70ms/step - loss: 2.2189 - val_loss: 6.6599\n",
            "Epoch 89/100\n",
            "203/203 [==============================] - 14s 69ms/step - loss: 2.1979 - val_loss: 6.7061\n",
            "Epoch 90/100\n",
            "203/203 [==============================] - 14s 68ms/step - loss: 2.1702 - val_loss: 6.7212\n",
            "Epoch 91/100\n",
            "203/203 [==============================] - 14s 69ms/step - loss: 2.1457 - val_loss: 6.7632\n",
            "Epoch 92/100\n",
            "203/203 [==============================] - 14s 70ms/step - loss: 2.1268 - val_loss: 6.7966\n",
            "Epoch 93/100\n",
            "203/203 [==============================] - 14s 69ms/step - loss: 2.1018 - val_loss: 6.8188\n",
            "Epoch 94/100\n",
            "203/203 [==============================] - 14s 70ms/step - loss: 2.0779 - val_loss: 6.8527\n",
            "Epoch 95/100\n",
            "203/203 [==============================] - 14s 69ms/step - loss: 2.0582 - val_loss: 6.8791\n",
            "Epoch 96/100\n",
            "203/203 [==============================] - 14s 69ms/step - loss: 2.0387 - val_loss: 6.9058\n",
            "Epoch 97/100\n",
            "203/203 [==============================] - 14s 69ms/step - loss: 2.0202 - val_loss: 6.9522\n",
            "Epoch 98/100\n",
            "203/203 [==============================] - 14s 69ms/step - loss: 1.9991 - val_loss: 6.9728\n",
            "Epoch 99/100\n",
            "203/203 [==============================] - 14s 69ms/step - loss: 1.9787 - val_loss: 6.9822\n",
            "Epoch 100/100\n",
            "203/203 [==============================] - 14s 69ms/step - loss: 1.9527 - val_loss: 7.0322\n"
          ]
        },
        {
          "output_type": "execute_result",
          "data": {
            "text/plain": [
              "<keras.src.callbacks.History at 0x7fb1b5f4cd30>"
            ]
          },
          "metadata": {},
          "execution_count": 28
        }
      ]
    },
    {
      "cell_type": "code",
      "source": [
        "def predict(input_sentence):\n",
        "    lst = []\n",
        "\n",
        "    x=tknizer_ques.texts_to_sequences([input_sentence])\n",
        "    input_seq = pad_sequences(x, maxlen=20, dtype='int32',padding='post', truncating='post')\n",
        "    encode_vals, state_h, state_c = model.layers[0](input_seq)\n",
        "    init_index = np.reshape(tknizer_ans.word_index['<start>'],(1,1))\n",
        "\n",
        "    for i in range(len(input_seq[0])):\n",
        "        predicted_out,dec_state_h, dec_state_c = model.layers[1](init_index, [state_h, state_c])\n",
        "        dense_out = model.layers[2](predicted_out)\n",
        "        state_h = dec_state_h\n",
        "        state_c = dec_state_c\n",
        "        init_index = np.argmax(dense_out)\n",
        "        init_index_2d = np.reshape(init_index, (1,1))\n",
        "        lst.append(tknizer_ans.index_word[init_index])\n",
        "        init_index = init_index_2d\n",
        "        if tknizer_ans.index_word[np.argmax(dense_out)]=='<end>':\n",
        "          break\n",
        "        else:\n",
        "          x = ' '.join(lst)\n",
        "    return x\n",
        "predict('are you righthanded')"
      ],
      "metadata": {
        "id": "7L4cjyhrVWtQ",
        "colab": {
          "base_uri": "https://localhost:8080/",
          "height": 35
        },
        "outputId": "2deb9dae-5aed-4e40-fe16-05d387f20ee1"
      },
      "execution_count": 29,
      "outputs": [
        {
          "output_type": "execute_result",
          "data": {
            "text/plain": [
              "'i love it actually you know any latin before they are the ones to their the us food'"
            ],
            "application/vnd.google.colaboratory.intrinsic+json": {
              "type": "string"
            }
          },
          "metadata": {},
          "execution_count": 29
        }
      ]
    },
    {
      "cell_type": "code",
      "source": [],
      "metadata": {
        "id": "BJgEDerV5YCW"
      },
      "execution_count": null,
      "outputs": []
    }
  ]
}